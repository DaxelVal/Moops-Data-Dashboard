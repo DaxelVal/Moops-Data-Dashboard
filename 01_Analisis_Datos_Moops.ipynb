{
  "cells": [
    {
      "cell_type": "markdown",
      "id": "a89cc0f4",
      "metadata": {
        "id": "a89cc0f4"
      },
      "source": [
        "# Moops Sales Analysis - Notebook Base"
      ]
    },
    {
      "cell_type": "markdown",
      "source": [
        "**Analizaremos los datos respecto aun archivo en formato xlsx que fue recopilado de las ventas de Moops en ciertos periodos del tiempo**\n",
        "\n",
        " >Tener en cuenta que no representa todas las ventas sino las posibles registradas"
      ],
      "metadata": {
        "id": "Dn7zMpAfMJSX"
      },
      "id": "Dn7zMpAfMJSX"
    },
    {
      "cell_type": "markdown",
      "source": [
        "###Parte 1: Instalar e Importar Librerias"
      ],
      "metadata": {
        "id": "5Xl9f4o2M1GM"
      },
      "id": "5Xl9f4o2M1GM"
    },
    {
      "cell_type": "code",
      "execution_count": null,
      "id": "da48fc31",
      "metadata": {
        "colab": {
          "base_uri": "https://localhost:8080/"
        },
        "id": "da48fc31",
        "outputId": "3716f597-2661-4f04-ed11-fffd8b1dd354"
      },
      "outputs": [
        {
          "output_type": "stream",
          "name": "stdout",
          "text": [
            "Requirement already satisfied: pandas in /usr/local/lib/python3.11/dist-packages (2.2.2)\n",
            "Requirement already satisfied: numpy>=1.23.2 in /usr/local/lib/python3.11/dist-packages (from pandas) (2.0.2)\n",
            "Requirement already satisfied: python-dateutil>=2.8.2 in /usr/local/lib/python3.11/dist-packages (from pandas) (2.8.2)\n",
            "Requirement already satisfied: pytz>=2020.1 in /usr/local/lib/python3.11/dist-packages (from pandas) (2025.2)\n",
            "Requirement already satisfied: tzdata>=2022.7 in /usr/local/lib/python3.11/dist-packages (from pandas) (2025.2)\n",
            "Requirement already satisfied: six>=1.5 in /usr/local/lib/python3.11/dist-packages (from python-dateutil>=2.8.2->pandas) (1.17.0)\n",
            "Requirement already satisfied: matplotlib in /usr/local/lib/python3.11/dist-packages (3.10.0)\n",
            "Requirement already satisfied: contourpy>=1.0.1 in /usr/local/lib/python3.11/dist-packages (from matplotlib) (1.3.2)\n",
            "Requirement already satisfied: cycler>=0.10 in /usr/local/lib/python3.11/dist-packages (from matplotlib) (0.12.1)\n",
            "Requirement already satisfied: fonttools>=4.22.0 in /usr/local/lib/python3.11/dist-packages (from matplotlib) (4.57.0)\n",
            "Requirement already satisfied: kiwisolver>=1.3.1 in /usr/local/lib/python3.11/dist-packages (from matplotlib) (1.4.8)\n",
            "Requirement already satisfied: numpy>=1.23 in /usr/local/lib/python3.11/dist-packages (from matplotlib) (2.0.2)\n",
            "Requirement already satisfied: packaging>=20.0 in /usr/local/lib/python3.11/dist-packages (from matplotlib) (24.2)\n",
            "Requirement already satisfied: pillow>=8 in /usr/local/lib/python3.11/dist-packages (from matplotlib) (11.1.0)\n",
            "Requirement already satisfied: pyparsing>=2.3.1 in /usr/local/lib/python3.11/dist-packages (from matplotlib) (3.2.3)\n",
            "Requirement already satisfied: python-dateutil>=2.7 in /usr/local/lib/python3.11/dist-packages (from matplotlib) (2.8.2)\n",
            "Requirement already satisfied: six>=1.5 in /usr/local/lib/python3.11/dist-packages (from python-dateutil>=2.7->matplotlib) (1.17.0)\n",
            "Requirement already satisfied: seaborn in /usr/local/lib/python3.11/dist-packages (0.13.2)\n",
            "Requirement already satisfied: numpy!=1.24.0,>=1.20 in /usr/local/lib/python3.11/dist-packages (from seaborn) (2.0.2)\n",
            "Requirement already satisfied: pandas>=1.2 in /usr/local/lib/python3.11/dist-packages (from seaborn) (2.2.2)\n",
            "Requirement already satisfied: matplotlib!=3.6.1,>=3.4 in /usr/local/lib/python3.11/dist-packages (from seaborn) (3.10.0)\n",
            "Requirement already satisfied: contourpy>=1.0.1 in /usr/local/lib/python3.11/dist-packages (from matplotlib!=3.6.1,>=3.4->seaborn) (1.3.2)\n",
            "Requirement already satisfied: cycler>=0.10 in /usr/local/lib/python3.11/dist-packages (from matplotlib!=3.6.1,>=3.4->seaborn) (0.12.1)\n",
            "Requirement already satisfied: fonttools>=4.22.0 in /usr/local/lib/python3.11/dist-packages (from matplotlib!=3.6.1,>=3.4->seaborn) (4.57.0)\n",
            "Requirement already satisfied: kiwisolver>=1.3.1 in /usr/local/lib/python3.11/dist-packages (from matplotlib!=3.6.1,>=3.4->seaborn) (1.4.8)\n",
            "Requirement already satisfied: packaging>=20.0 in /usr/local/lib/python3.11/dist-packages (from matplotlib!=3.6.1,>=3.4->seaborn) (24.2)\n",
            "Requirement already satisfied: pillow>=8 in /usr/local/lib/python3.11/dist-packages (from matplotlib!=3.6.1,>=3.4->seaborn) (11.1.0)\n",
            "Requirement already satisfied: pyparsing>=2.3.1 in /usr/local/lib/python3.11/dist-packages (from matplotlib!=3.6.1,>=3.4->seaborn) (3.2.3)\n",
            "Requirement already satisfied: python-dateutil>=2.7 in /usr/local/lib/python3.11/dist-packages (from matplotlib!=3.6.1,>=3.4->seaborn) (2.8.2)\n",
            "Requirement already satisfied: pytz>=2020.1 in /usr/local/lib/python3.11/dist-packages (from pandas>=1.2->seaborn) (2025.2)\n",
            "Requirement already satisfied: tzdata>=2022.7 in /usr/local/lib/python3.11/dist-packages (from pandas>=1.2->seaborn) (2025.2)\n",
            "Requirement already satisfied: six>=1.5 in /usr/local/lib/python3.11/dist-packages (from python-dateutil>=2.7->matplotlib!=3.6.1,>=3.4->seaborn) (1.17.0)\n"
          ]
        }
      ],
      "source": [
        "!pip install pandas\n",
        "!pip install matplotlib\n",
        "!pip install seaborn\n",
        "!pip install -U -q PyDrive"
      ]
    },
    {
      "cell_type": "markdown",
      "source": [
        "Importando librerias"
      ],
      "metadata": {
        "id": "4ZMfYZbfN6VL"
      },
      "id": "4ZMfYZbfN6VL"
    },
    {
      "cell_type": "code",
      "source": [
        "import pandas as pd\n",
        "import matplotlib.pyplot as plt\n",
        "import seaborn as sns\n",
        "from pydrive.auth import GoogleAuth\n",
        "from pydrive.drive import GoogleDrive\n",
        "from google.colab import auth\n",
        "from oauth2client.client import GoogleCredentials"
      ],
      "metadata": {
        "id": "1FbFbHW4ODtS",
        "colab": {
          "base_uri": "https://localhost:8080/"
        },
        "outputId": "3f7219ca-47ef-4686-8529-6124f910bea9"
      },
      "id": "1FbFbHW4ODtS",
      "execution_count": null,
      "outputs": [
        {
          "output_type": "stream",
          "name": "stderr",
          "text": [
            "WARNING:root:pydrive is deprecated and no longer maintained. We recommend that you migrate your projects to pydrive2, the maintained fork of pydrive\n"
          ]
        }
      ]
    },
    {
      "cell_type": "markdown",
      "source": [
        "##Cargaremos y Previsualizaremos el conjunto de Datos, en este caso el excel"
      ],
      "metadata": {
        "id": "whgQUSmEOjo9"
      },
      "id": "whgQUSmEOjo9"
    },
    {
      "cell_type": "code",
      "execution_count": null,
      "id": "218c1be1",
      "metadata": {
        "colab": {
          "base_uri": "https://localhost:8080/"
        },
        "id": "218c1be1",
        "outputId": "70ab5c37-1697-4986-d474-6640d849960b"
      },
      "outputs": [
        {
          "output_type": "execute_result",
          "data": {
            "text/plain": [
              "       Diseños pedidos Modelo de celular Modelo numero Talla Tamaño  \\\n",
              "0       RICK PEPINILLO            Iphone            16   NaN    NaN   \n",
              "1               Ferxxo            Iphone            13   NaN    NaN   \n",
              "2  PAISAJE CON ERNESTO            Iphone            14   NaN    NaN   \n",
              "3  PAISAJE CON ERNESTO            Iphone            14   NaN    NaN   \n",
              "4               Ferxxo            Iphone            14   NaN    NaN   \n",
              "\n",
              "  Diseño completos Anticipo     Pagos Tipo de Fundas         Color  Cliente  \\\n",
              "0               si       si  COMPLETO          Marco  Transparente  Alfredo   \n",
              "1               si       si  COMPLETO        Acrigel  Transparente  Alfredo   \n",
              "2               no      si   COMPLETO          Marco  Transparente  Ricardo   \n",
              "3               no      si   COMPLETO          Marco  Transparente  Ricardo   \n",
              "4               si       si  COMPLETO      Reforzada  Transparente    yayoo   \n",
              "\n",
              "  Producto  Lugar Fecha de entrega Red social de venta  Precio  \\\n",
              "0     Funda  CDMX       2024-01-18            Facebook     320   \n",
              "1     Funda  CDMX       2024-01-15            Facebook     200   \n",
              "2     Funda  CDMX       2024-01-16            Facebook     320   \n",
              "3     Funda  CDMX       2024-03-14            Facebook     320   \n",
              "4     Funda  CDMX       2024-04-10            Facebook     290   \n",
              "\n",
              "  Lugares de Envio  \n",
              "0              NaN  \n",
              "1              NaN  \n",
              "2              NaN  \n",
              "3              NaN  \n",
              "4              NaN  "
            ],
            "text/html": [
              "\n",
              "  <div id=\"df-7ea4fb5d-97bc-48a4-aa46-85f4b1c10946\" class=\"colab-df-container\">\n",
              "    <div>\n",
              "<style scoped>\n",
              "    .dataframe tbody tr th:only-of-type {\n",
              "        vertical-align: middle;\n",
              "    }\n",
              "\n",
              "    .dataframe tbody tr th {\n",
              "        vertical-align: top;\n",
              "    }\n",
              "\n",
              "    .dataframe thead th {\n",
              "        text-align: right;\n",
              "    }\n",
              "</style>\n",
              "<table border=\"1\" class=\"dataframe\">\n",
              "  <thead>\n",
              "    <tr style=\"text-align: right;\">\n",
              "      <th></th>\n",
              "      <th>Diseños pedidos</th>\n",
              "      <th>Modelo de celular</th>\n",
              "      <th>Modelo numero</th>\n",
              "      <th>Talla</th>\n",
              "      <th>Tamaño</th>\n",
              "      <th>Diseño completos</th>\n",
              "      <th>Anticipo</th>\n",
              "      <th>Pagos</th>\n",
              "      <th>Tipo de Fundas</th>\n",
              "      <th>Color</th>\n",
              "      <th>Cliente</th>\n",
              "      <th>Producto</th>\n",
              "      <th>Lugar</th>\n",
              "      <th>Fecha de entrega</th>\n",
              "      <th>Red social de venta</th>\n",
              "      <th>Precio</th>\n",
              "      <th>Lugares de Envio</th>\n",
              "    </tr>\n",
              "  </thead>\n",
              "  <tbody>\n",
              "    <tr>\n",
              "      <th>0</th>\n",
              "      <td>RICK PEPINILLO</td>\n",
              "      <td>Iphone</td>\n",
              "      <td>16</td>\n",
              "      <td>NaN</td>\n",
              "      <td>NaN</td>\n",
              "      <td>si</td>\n",
              "      <td>si</td>\n",
              "      <td>COMPLETO</td>\n",
              "      <td>Marco</td>\n",
              "      <td>Transparente</td>\n",
              "      <td>Alfredo</td>\n",
              "      <td>Funda</td>\n",
              "      <td>CDMX</td>\n",
              "      <td>2024-01-18</td>\n",
              "      <td>Facebook</td>\n",
              "      <td>320</td>\n",
              "      <td>NaN</td>\n",
              "    </tr>\n",
              "    <tr>\n",
              "      <th>1</th>\n",
              "      <td>Ferxxo</td>\n",
              "      <td>Iphone</td>\n",
              "      <td>13</td>\n",
              "      <td>NaN</td>\n",
              "      <td>NaN</td>\n",
              "      <td>si</td>\n",
              "      <td>si</td>\n",
              "      <td>COMPLETO</td>\n",
              "      <td>Acrigel</td>\n",
              "      <td>Transparente</td>\n",
              "      <td>Alfredo</td>\n",
              "      <td>Funda</td>\n",
              "      <td>CDMX</td>\n",
              "      <td>2024-01-15</td>\n",
              "      <td>Facebook</td>\n",
              "      <td>200</td>\n",
              "      <td>NaN</td>\n",
              "    </tr>\n",
              "    <tr>\n",
              "      <th>2</th>\n",
              "      <td>PAISAJE CON ERNESTO</td>\n",
              "      <td>Iphone</td>\n",
              "      <td>14</td>\n",
              "      <td>NaN</td>\n",
              "      <td>NaN</td>\n",
              "      <td>no</td>\n",
              "      <td>si</td>\n",
              "      <td>COMPLETO</td>\n",
              "      <td>Marco</td>\n",
              "      <td>Transparente</td>\n",
              "      <td>Ricardo</td>\n",
              "      <td>Funda</td>\n",
              "      <td>CDMX</td>\n",
              "      <td>2024-01-16</td>\n",
              "      <td>Facebook</td>\n",
              "      <td>320</td>\n",
              "      <td>NaN</td>\n",
              "    </tr>\n",
              "    <tr>\n",
              "      <th>3</th>\n",
              "      <td>PAISAJE CON ERNESTO</td>\n",
              "      <td>Iphone</td>\n",
              "      <td>14</td>\n",
              "      <td>NaN</td>\n",
              "      <td>NaN</td>\n",
              "      <td>no</td>\n",
              "      <td>si</td>\n",
              "      <td>COMPLETO</td>\n",
              "      <td>Marco</td>\n",
              "      <td>Transparente</td>\n",
              "      <td>Ricardo</td>\n",
              "      <td>Funda</td>\n",
              "      <td>CDMX</td>\n",
              "      <td>2024-03-14</td>\n",
              "      <td>Facebook</td>\n",
              "      <td>320</td>\n",
              "      <td>NaN</td>\n",
              "    </tr>\n",
              "    <tr>\n",
              "      <th>4</th>\n",
              "      <td>Ferxxo</td>\n",
              "      <td>Iphone</td>\n",
              "      <td>14</td>\n",
              "      <td>NaN</td>\n",
              "      <td>NaN</td>\n",
              "      <td>si</td>\n",
              "      <td>si</td>\n",
              "      <td>COMPLETO</td>\n",
              "      <td>Reforzada</td>\n",
              "      <td>Transparente</td>\n",
              "      <td>yayoo</td>\n",
              "      <td>Funda</td>\n",
              "      <td>CDMX</td>\n",
              "      <td>2024-04-10</td>\n",
              "      <td>Facebook</td>\n",
              "      <td>290</td>\n",
              "      <td>NaN</td>\n",
              "    </tr>\n",
              "  </tbody>\n",
              "</table>\n",
              "</div>\n",
              "    <div class=\"colab-df-buttons\">\n",
              "\n",
              "  <div class=\"colab-df-container\">\n",
              "    <button class=\"colab-df-convert\" onclick=\"convertToInteractive('df-7ea4fb5d-97bc-48a4-aa46-85f4b1c10946')\"\n",
              "            title=\"Convert this dataframe to an interactive table.\"\n",
              "            style=\"display:none;\">\n",
              "\n",
              "  <svg xmlns=\"http://www.w3.org/2000/svg\" height=\"24px\" viewBox=\"0 -960 960 960\">\n",
              "    <path d=\"M120-120v-720h720v720H120Zm60-500h600v-160H180v160Zm220 220h160v-160H400v160Zm0 220h160v-160H400v160ZM180-400h160v-160H180v160Zm440 0h160v-160H620v160ZM180-180h160v-160H180v160Zm440 0h160v-160H620v160Z\"/>\n",
              "  </svg>\n",
              "    </button>\n",
              "\n",
              "  <style>\n",
              "    .colab-df-container {\n",
              "      display:flex;\n",
              "      gap: 12px;\n",
              "    }\n",
              "\n",
              "    .colab-df-convert {\n",
              "      background-color: #E8F0FE;\n",
              "      border: none;\n",
              "      border-radius: 50%;\n",
              "      cursor: pointer;\n",
              "      display: none;\n",
              "      fill: #1967D2;\n",
              "      height: 32px;\n",
              "      padding: 0 0 0 0;\n",
              "      width: 32px;\n",
              "    }\n",
              "\n",
              "    .colab-df-convert:hover {\n",
              "      background-color: #E2EBFA;\n",
              "      box-shadow: 0px 1px 2px rgba(60, 64, 67, 0.3), 0px 1px 3px 1px rgba(60, 64, 67, 0.15);\n",
              "      fill: #174EA6;\n",
              "    }\n",
              "\n",
              "    .colab-df-buttons div {\n",
              "      margin-bottom: 4px;\n",
              "    }\n",
              "\n",
              "    [theme=dark] .colab-df-convert {\n",
              "      background-color: #3B4455;\n",
              "      fill: #D2E3FC;\n",
              "    }\n",
              "\n",
              "    [theme=dark] .colab-df-convert:hover {\n",
              "      background-color: #434B5C;\n",
              "      box-shadow: 0px 1px 3px 1px rgba(0, 0, 0, 0.15);\n",
              "      filter: drop-shadow(0px 1px 2px rgba(0, 0, 0, 0.3));\n",
              "      fill: #FFFFFF;\n",
              "    }\n",
              "  </style>\n",
              "\n",
              "    <script>\n",
              "      const buttonEl =\n",
              "        document.querySelector('#df-7ea4fb5d-97bc-48a4-aa46-85f4b1c10946 button.colab-df-convert');\n",
              "      buttonEl.style.display =\n",
              "        google.colab.kernel.accessAllowed ? 'block' : 'none';\n",
              "\n",
              "      async function convertToInteractive(key) {\n",
              "        const element = document.querySelector('#df-7ea4fb5d-97bc-48a4-aa46-85f4b1c10946');\n",
              "        const dataTable =\n",
              "          await google.colab.kernel.invokeFunction('convertToInteractive',\n",
              "                                                    [key], {});\n",
              "        if (!dataTable) return;\n",
              "\n",
              "        const docLinkHtml = 'Like what you see? Visit the ' +\n",
              "          '<a target=\"_blank\" href=https://colab.research.google.com/notebooks/data_table.ipynb>data table notebook</a>'\n",
              "          + ' to learn more about interactive tables.';\n",
              "        element.innerHTML = '';\n",
              "        dataTable['output_type'] = 'display_data';\n",
              "        await google.colab.output.renderOutput(dataTable, element);\n",
              "        const docLink = document.createElement('div');\n",
              "        docLink.innerHTML = docLinkHtml;\n",
              "        element.appendChild(docLink);\n",
              "      }\n",
              "    </script>\n",
              "  </div>\n",
              "\n",
              "\n",
              "<div id=\"df-f91aab07-19e3-41ee-81a8-f84805f821b1\">\n",
              "  <button class=\"colab-df-quickchart\" onclick=\"quickchart('df-f91aab07-19e3-41ee-81a8-f84805f821b1')\"\n",
              "            title=\"Suggest charts\"\n",
              "            style=\"display:none;\">\n",
              "\n",
              "<svg xmlns=\"http://www.w3.org/2000/svg\" height=\"24px\"viewBox=\"0 0 24 24\"\n",
              "     width=\"24px\">\n",
              "    <g>\n",
              "        <path d=\"M19 3H5c-1.1 0-2 .9-2 2v14c0 1.1.9 2 2 2h14c1.1 0 2-.9 2-2V5c0-1.1-.9-2-2-2zM9 17H7v-7h2v7zm4 0h-2V7h2v10zm4 0h-2v-4h2v4z\"/>\n",
              "    </g>\n",
              "</svg>\n",
              "  </button>\n",
              "\n",
              "<style>\n",
              "  .colab-df-quickchart {\n",
              "      --bg-color: #E8F0FE;\n",
              "      --fill-color: #1967D2;\n",
              "      --hover-bg-color: #E2EBFA;\n",
              "      --hover-fill-color: #174EA6;\n",
              "      --disabled-fill-color: #AAA;\n",
              "      --disabled-bg-color: #DDD;\n",
              "  }\n",
              "\n",
              "  [theme=dark] .colab-df-quickchart {\n",
              "      --bg-color: #3B4455;\n",
              "      --fill-color: #D2E3FC;\n",
              "      --hover-bg-color: #434B5C;\n",
              "      --hover-fill-color: #FFFFFF;\n",
              "      --disabled-bg-color: #3B4455;\n",
              "      --disabled-fill-color: #666;\n",
              "  }\n",
              "\n",
              "  .colab-df-quickchart {\n",
              "    background-color: var(--bg-color);\n",
              "    border: none;\n",
              "    border-radius: 50%;\n",
              "    cursor: pointer;\n",
              "    display: none;\n",
              "    fill: var(--fill-color);\n",
              "    height: 32px;\n",
              "    padding: 0;\n",
              "    width: 32px;\n",
              "  }\n",
              "\n",
              "  .colab-df-quickchart:hover {\n",
              "    background-color: var(--hover-bg-color);\n",
              "    box-shadow: 0 1px 2px rgba(60, 64, 67, 0.3), 0 1px 3px 1px rgba(60, 64, 67, 0.15);\n",
              "    fill: var(--button-hover-fill-color);\n",
              "  }\n",
              "\n",
              "  .colab-df-quickchart-complete:disabled,\n",
              "  .colab-df-quickchart-complete:disabled:hover {\n",
              "    background-color: var(--disabled-bg-color);\n",
              "    fill: var(--disabled-fill-color);\n",
              "    box-shadow: none;\n",
              "  }\n",
              "\n",
              "  .colab-df-spinner {\n",
              "    border: 2px solid var(--fill-color);\n",
              "    border-color: transparent;\n",
              "    border-bottom-color: var(--fill-color);\n",
              "    animation:\n",
              "      spin 1s steps(1) infinite;\n",
              "  }\n",
              "\n",
              "  @keyframes spin {\n",
              "    0% {\n",
              "      border-color: transparent;\n",
              "      border-bottom-color: var(--fill-color);\n",
              "      border-left-color: var(--fill-color);\n",
              "    }\n",
              "    20% {\n",
              "      border-color: transparent;\n",
              "      border-left-color: var(--fill-color);\n",
              "      border-top-color: var(--fill-color);\n",
              "    }\n",
              "    30% {\n",
              "      border-color: transparent;\n",
              "      border-left-color: var(--fill-color);\n",
              "      border-top-color: var(--fill-color);\n",
              "      border-right-color: var(--fill-color);\n",
              "    }\n",
              "    40% {\n",
              "      border-color: transparent;\n",
              "      border-right-color: var(--fill-color);\n",
              "      border-top-color: var(--fill-color);\n",
              "    }\n",
              "    60% {\n",
              "      border-color: transparent;\n",
              "      border-right-color: var(--fill-color);\n",
              "    }\n",
              "    80% {\n",
              "      border-color: transparent;\n",
              "      border-right-color: var(--fill-color);\n",
              "      border-bottom-color: var(--fill-color);\n",
              "    }\n",
              "    90% {\n",
              "      border-color: transparent;\n",
              "      border-bottom-color: var(--fill-color);\n",
              "    }\n",
              "  }\n",
              "</style>\n",
              "\n",
              "  <script>\n",
              "    async function quickchart(key) {\n",
              "      const quickchartButtonEl =\n",
              "        document.querySelector('#' + key + ' button');\n",
              "      quickchartButtonEl.disabled = true;  // To prevent multiple clicks.\n",
              "      quickchartButtonEl.classList.add('colab-df-spinner');\n",
              "      try {\n",
              "        const charts = await google.colab.kernel.invokeFunction(\n",
              "            'suggestCharts', [key], {});\n",
              "      } catch (error) {\n",
              "        console.error('Error during call to suggestCharts:', error);\n",
              "      }\n",
              "      quickchartButtonEl.classList.remove('colab-df-spinner');\n",
              "      quickchartButtonEl.classList.add('colab-df-quickchart-complete');\n",
              "    }\n",
              "    (() => {\n",
              "      let quickchartButtonEl =\n",
              "        document.querySelector('#df-f91aab07-19e3-41ee-81a8-f84805f821b1 button');\n",
              "      quickchartButtonEl.style.display =\n",
              "        google.colab.kernel.accessAllowed ? 'block' : 'none';\n",
              "    })();\n",
              "  </script>\n",
              "</div>\n",
              "\n",
              "    </div>\n",
              "  </div>\n"
            ],
            "application/vnd.google.colaboratory.intrinsic+json": {
              "type": "dataframe",
              "variable_name": "df",
              "summary": "{\n  \"name\": \"df\",\n  \"rows\": 324,\n  \"fields\": [\n    {\n      \"column\": \"Dise\\u00f1os pedidos\",\n      \"properties\": {\n        \"dtype\": \"category\",\n        \"num_unique_values\": 146,\n        \"samples\": [\n          \"invincible\",\n          \"dise\\u00f1o anime \",\n          \"Funda de dise\\u00f1os weird\"\n        ],\n        \"semantic_type\": \"\",\n        \"description\": \"\"\n      }\n    },\n    {\n      \"column\": \"Modelo de celular\",\n      \"properties\": {\n        \"dtype\": \"category\",\n        \"num_unique_values\": 9,\n        \"samples\": [\n          \"Oppo\",\n          \"Motorola\",\n          \"zte\"\n        ],\n        \"semantic_type\": \"\",\n        \"description\": \"\"\n      }\n    },\n    {\n      \"column\": \"Modelo numero\",\n      \"properties\": {\n        \"dtype\": \"category\",\n        \"num_unique_values\": 48,\n        \"samples\": [\n          \"s21\",\n          \"poco\",\n          \"a54\"\n        ],\n        \"semantic_type\": \"\",\n        \"description\": \"\"\n      }\n    },\n    {\n      \"column\": \"Talla\",\n      \"properties\": {\n        \"dtype\": \"category\",\n        \"num_unique_values\": 4,\n        \"samples\": [\n          \"Chica\",\n          \"Mediana\",\n          \"Grande\"\n        ],\n        \"semantic_type\": \"\",\n        \"description\": \"\"\n      }\n    },\n    {\n      \"column\": \"Tama\\u00f1o\",\n      \"properties\": {\n        \"dtype\": \"category\",\n        \"num_unique_values\": 3,\n        \"samples\": [\n          \"CARTA\",\n          \"DOBLE CARTA\",\n          \"MEDIA CARTA\"\n        ],\n        \"semantic_type\": \"\",\n        \"description\": \"\"\n      }\n    },\n    {\n      \"column\": \"Dise\\u00f1o completos\",\n      \"properties\": {\n        \"dtype\": \"category\",\n        \"num_unique_values\": 3,\n        \"samples\": [\n          \"si\",\n          \"no\",\n          \"Si\"\n        ],\n        \"semantic_type\": \"\",\n        \"description\": \"\"\n      }\n    },\n    {\n      \"column\": \"Anticipo\",\n      \"properties\": {\n        \"dtype\": \"category\",\n        \"num_unique_values\": 4,\n        \"samples\": [\n          \"si \",\n          \"no\",\n          \"si\"\n        ],\n        \"semantic_type\": \"\",\n        \"description\": \"\"\n      }\n    },\n    {\n      \"column\": \"Pagos\",\n      \"properties\": {\n        \"dtype\": \"category\",\n        \"num_unique_values\": 2,\n        \"samples\": [\n          \"INCOMPLETO\",\n          \"COMPLETO\"\n        ],\n        \"semantic_type\": \"\",\n        \"description\": \"\"\n      }\n    },\n    {\n      \"column\": \"Tipo de Fundas\",\n      \"properties\": {\n        \"dtype\": \"category\",\n        \"num_unique_values\": 3,\n        \"samples\": [\n          \"Marco\",\n          \"Acrigel\"\n        ],\n        \"semantic_type\": \"\",\n        \"description\": \"\"\n      }\n    },\n    {\n      \"column\": \"Color\",\n      \"properties\": {\n        \"dtype\": \"category\",\n        \"num_unique_values\": 17,\n        \"samples\": [\n          \"Transparente\",\n          \"Negro\"\n        ],\n        \"semantic_type\": \"\",\n        \"description\": \"\"\n      }\n    },\n    {\n      \"column\": \"Cliente\",\n      \"properties\": {\n        \"dtype\": \"category\",\n        \"num_unique_values\": 122,\n        \"samples\": [\n          \"Pame\",\n          \"whats\"\n        ],\n        \"semantic_type\": \"\",\n        \"description\": \"\"\n      }\n    },\n    {\n      \"column\": \"Producto \",\n      \"properties\": {\n        \"dtype\": \"category\",\n        \"num_unique_values\": 4,\n        \"samples\": [\n          \"Playera\",\n          \"Cuadro\"\n        ],\n        \"semantic_type\": \"\",\n        \"description\": \"\"\n      }\n    },\n    {\n      \"column\": \"Lugar\",\n      \"properties\": {\n        \"dtype\": \"category\",\n        \"num_unique_values\": 5,\n        \"samples\": [\n          \"Coacalco\",\n          \"env\\u00edo\"\n        ],\n        \"semantic_type\": \"\",\n        \"description\": \"\"\n      }\n    },\n    {\n      \"column\": \"Fecha de entrega\",\n      \"properties\": {\n        \"dtype\": \"date\",\n        \"min\": \"2024-01-08 00:00:00\",\n        \"max\": \"2025-04-23 00:00:00\",\n        \"num_unique_values\": 141,\n        \"samples\": [\n          \"2024-04-24 00:00:00\",\n          \"2024-05-21 00:00:00\"\n        ],\n        \"semantic_type\": \"\",\n        \"description\": \"\"\n      }\n    },\n    {\n      \"column\": \"Red social de venta\",\n      \"properties\": {\n        \"dtype\": \"category\",\n        \"num_unique_values\": 3,\n        \"samples\": [\n          \"Facebook\",\n          \"Instagram\"\n        ],\n        \"semantic_type\": \"\",\n        \"description\": \"\"\n      }\n    },\n    {\n      \"column\": \"Precio\",\n      \"properties\": {\n        \"dtype\": \"number\",\n        \"std\": 50,\n        \"min\": 200,\n        \"max\": 390,\n        \"num_unique_values\": 5,\n        \"samples\": [\n          200,\n          390\n        ],\n        \"semantic_type\": \"\",\n        \"description\": \"\"\n      }\n    },\n    {\n      \"column\": \"Lugares de Envio\",\n      \"properties\": {\n        \"dtype\": \"category\",\n        \"num_unique_values\": 8,\n        \"samples\": [\n          \"Yucat\\u00e1n\",\n          \"Quer\\u00e9taro\"\n        ],\n        \"semantic_type\": \"\",\n        \"description\": \"\"\n      }\n    }\n  ]\n}"
            }
          },
          "metadata": {},
          "execution_count": 3
        }
      ],
      "source": [
        "# Autenticación\n",
        "auth.authenticate_user()\n",
        "gauth = GoogleAuth()\n",
        "gauth.credentials = GoogleCredentials.get_application_default()\n",
        "drive = GoogleDrive(gauth)\n",
        "\n",
        "# Replace with the correct file ID from the URL\n",
        "file_id = \"1LYZWcK8RHVM9YVwXoZgQQWqjy9KBH1og2di2v1O2FSI\"\n",
        "downloaded = drive.CreateFile({'id': file_id})\n",
        "\n",
        "# Export the file to xlsx format before downloading\n",
        "downloaded.GetContentFile('Ventas_Moops_2024_2025.xlsx', mimetype='application/vnd.openxmlformats-officedocument.spreadsheetml.sheet')\n",
        "\n",
        "# Leer el archivo\n",
        "import pandas as pd\n",
        "df = pd.read_excel(\"Ventas_Moops_2024_2025.xlsx\")\n",
        "df.head()"
      ]
    },
    {
      "cell_type": "markdown",
      "source": [
        "###Exploraremos los datos que se encuentran en la tabla, los datos necesarios e importantes"
      ],
      "metadata": {
        "id": "S-G-w2jsPmwD"
      },
      "id": "S-G-w2jsPmwD"
    },
    {
      "cell_type": "markdown",
      "source": [
        "Visualizaremos los tipos de datos"
      ],
      "metadata": {
        "id": "eq4MmV3pQPrV"
      },
      "id": "eq4MmV3pQPrV"
    },
    {
      "cell_type": "code",
      "source": [
        "df.dtypes"
      ],
      "metadata": {
        "colab": {
          "base_uri": "https://localhost:8080/"
        },
        "id": "gaTczkEVQMAL",
        "outputId": "8c45fa46-6242-48dd-e875-98f268b0e8c8"
      },
      "id": "gaTczkEVQMAL",
      "execution_count": null,
      "outputs": [
        {
          "output_type": "execute_result",
          "data": {
            "text/plain": [
              "Diseños pedidos                object\n",
              "Modelo de celular              object\n",
              "Modelo numero                  object\n",
              "Talla                          object\n",
              "Tamaño                         object\n",
              "Diseño completos               object\n",
              "Anticipo                       object\n",
              "Pagos                          object\n",
              "Tipo de Fundas                 object\n",
              "Color                          object\n",
              "Cliente                        object\n",
              "Producto                       object\n",
              "Lugar                          object\n",
              "Fecha de entrega       datetime64[ns]\n",
              "Red social de venta            object\n",
              "Precio                          int64\n",
              "Lugares de Envio               object\n",
              "dtype: object"
            ],
            "text/html": [
              "<div>\n",
              "<style scoped>\n",
              "    .dataframe tbody tr th:only-of-type {\n",
              "        vertical-align: middle;\n",
              "    }\n",
              "\n",
              "    .dataframe tbody tr th {\n",
              "        vertical-align: top;\n",
              "    }\n",
              "\n",
              "    .dataframe thead th {\n",
              "        text-align: right;\n",
              "    }\n",
              "</style>\n",
              "<table border=\"1\" class=\"dataframe\">\n",
              "  <thead>\n",
              "    <tr style=\"text-align: right;\">\n",
              "      <th></th>\n",
              "      <th>0</th>\n",
              "    </tr>\n",
              "  </thead>\n",
              "  <tbody>\n",
              "    <tr>\n",
              "      <th>Diseños pedidos</th>\n",
              "      <td>object</td>\n",
              "    </tr>\n",
              "    <tr>\n",
              "      <th>Modelo de celular</th>\n",
              "      <td>object</td>\n",
              "    </tr>\n",
              "    <tr>\n",
              "      <th>Modelo numero</th>\n",
              "      <td>object</td>\n",
              "    </tr>\n",
              "    <tr>\n",
              "      <th>Talla</th>\n",
              "      <td>object</td>\n",
              "    </tr>\n",
              "    <tr>\n",
              "      <th>Tamaño</th>\n",
              "      <td>object</td>\n",
              "    </tr>\n",
              "    <tr>\n",
              "      <th>Diseño completos</th>\n",
              "      <td>object</td>\n",
              "    </tr>\n",
              "    <tr>\n",
              "      <th>Anticipo</th>\n",
              "      <td>object</td>\n",
              "    </tr>\n",
              "    <tr>\n",
              "      <th>Pagos</th>\n",
              "      <td>object</td>\n",
              "    </tr>\n",
              "    <tr>\n",
              "      <th>Tipo de Fundas</th>\n",
              "      <td>object</td>\n",
              "    </tr>\n",
              "    <tr>\n",
              "      <th>Color</th>\n",
              "      <td>object</td>\n",
              "    </tr>\n",
              "    <tr>\n",
              "      <th>Cliente</th>\n",
              "      <td>object</td>\n",
              "    </tr>\n",
              "    <tr>\n",
              "      <th>Producto</th>\n",
              "      <td>object</td>\n",
              "    </tr>\n",
              "    <tr>\n",
              "      <th>Lugar</th>\n",
              "      <td>object</td>\n",
              "    </tr>\n",
              "    <tr>\n",
              "      <th>Fecha de entrega</th>\n",
              "      <td>datetime64[ns]</td>\n",
              "    </tr>\n",
              "    <tr>\n",
              "      <th>Red social de venta</th>\n",
              "      <td>object</td>\n",
              "    </tr>\n",
              "    <tr>\n",
              "      <th>Precio</th>\n",
              "      <td>int64</td>\n",
              "    </tr>\n",
              "    <tr>\n",
              "      <th>Lugares de Envio</th>\n",
              "      <td>object</td>\n",
              "    </tr>\n",
              "  </tbody>\n",
              "</table>\n",
              "</div><br><label><b>dtype:</b> object</label>"
            ]
          },
          "metadata": {},
          "execution_count": 4
        }
      ]
    },
    {
      "cell_type": "markdown",
      "source": [
        "**Analizaremos los nombres de las columnas para usarlas**"
      ],
      "metadata": {
        "id": "hjd3s-SgRRHP"
      },
      "id": "hjd3s-SgRRHP"
    },
    {
      "cell_type": "code",
      "source": [
        "df.columns"
      ],
      "metadata": {
        "colab": {
          "base_uri": "https://localhost:8080/"
        },
        "id": "jP6-9nhXRxKD",
        "outputId": "1a09f36b-6f41-46c1-9e10-790f11f95520"
      },
      "id": "jP6-9nhXRxKD",
      "execution_count": null,
      "outputs": [
        {
          "output_type": "execute_result",
          "data": {
            "text/plain": [
              "Index(['Diseños pedidos', 'Modelo de celular', 'Modelo numero', 'Talla',\n",
              "       'Tamaño', 'Diseño completos', 'Anticipo', 'Pagos', 'Tipo de Fundas',\n",
              "       'Color', 'Cliente', 'Producto ', 'Lugar', 'Fecha de entrega',\n",
              "       'Red social de venta', 'Precio', 'Lugares de Envio'],\n",
              "      dtype='object')"
            ]
          },
          "metadata": {},
          "execution_count": 5
        }
      ]
    },
    {
      "cell_type": "markdown",
      "source": [
        "Renombraremos la columna Unnamed: 3 a Tamaño"
      ],
      "metadata": {
        "id": "3Tp0VVJqR8NG"
      },
      "id": "3Tp0VVJqR8NG"
    },
    {
      "cell_type": "code",
      "source": [
        "#RENOMBRAREMOS COLUMNA\n",
        "df.rename(columns={'Unnamed:3':'Tamaño'},inplace=True)\n"
      ],
      "metadata": {
        "id": "gfQAjul4SEAb"
      },
      "id": "gfQAjul4SEAb",
      "execution_count": null,
      "outputs": []
    },
    {
      "cell_type": "markdown",
      "source": [
        "#Fundas de Celular"
      ],
      "metadata": {
        "id": "Oay846PjhDbX"
      },
      "id": "Oay846PjhDbX"
    },
    {
      "cell_type": "markdown",
      "source": [
        "Interactuemos un poco con los datos, por ejemplo, saber cuales son los modelos de celular que se han vendido registrados"
      ],
      "metadata": {
        "id": "Q2oJKRgzTcaM"
      },
      "id": "Q2oJKRgzTcaM"
    },
    {
      "cell_type": "code",
      "source": [
        "#hacer conteo de cada modelo de celular vendido con la columna MODELO\n",
        "df_conteo=df['Modelo de celular'].value_counts()\n",
        "df_ordandos=df_conteo.sort_values()\n",
        "print(df_ordandos)\n",
        "print(df_conteo)"
      ],
      "metadata": {
        "colab": {
          "base_uri": "https://localhost:8080/"
        },
        "id": "4PkjjFKdUJip",
        "outputId": "e7f62820-91ac-420d-aed4-c1ae43afaa5b"
      },
      "id": "4PkjjFKdUJip",
      "execution_count": null,
      "outputs": [
        {
          "output_type": "stream",
          "name": "stdout",
          "text": [
            "Modelo de celular\n",
            "vivo          1\n",
            "Redmi         2\n",
            "Honor         2\n",
            "Oppo          5\n",
            "Xiaomi        5\n",
            "zte          10\n",
            "Motorola     19\n",
            "Samsung      83\n",
            "Iphone      112\n",
            "Name: count, dtype: int64\n",
            "Modelo de celular\n",
            "Iphone      112\n",
            "Samsung      83\n",
            "Motorola     19\n",
            "zte          10\n",
            "Oppo          5\n",
            "Xiaomi        5\n",
            "Redmi         2\n",
            "Honor         2\n",
            "vivo          1\n",
            "Name: count, dtype: int64\n"
          ]
        }
      ]
    },
    {
      "cell_type": "markdown",
      "source": [
        "Encontramos que los modelos mas vendidos son de Iphone, Samsung y Motorola,\n",
        "\n",
        "> Esto puede dar inicios de la razon de porque otros clientes que no tengan estos modelos no han comprado para su celular"
      ],
      "metadata": {
        "id": "_-KbCVHDbdA8"
      },
      "id": "_-KbCVHDbdA8"
    },
    {
      "cell_type": "markdown",
      "source": [
        "Podemos identificar el tipo de material de funda que se vende por modelo de celular\n"
      ],
      "metadata": {
        "id": "PyLlGbmhcUBO"
      },
      "id": "PyLlGbmhcUBO"
    },
    {
      "cell_type": "code",
      "source": [
        "#conteo de tipo de material de funda por modelo de celualr\n",
        "df_conteo_material= df.groupby(['Modelo de celular','Tipo de Fundas']).size().unstack(fill_value=0)\n",
        "df_conteo_material"
      ],
      "metadata": {
        "colab": {
          "base_uri": "https://localhost:8080/",
          "height": 363
        },
        "id": "FdJi-BXDcbyQ",
        "outputId": "bc93a035-f560-4a70-a4a2-4597289d16f6"
      },
      "id": "FdJi-BXDcbyQ",
      "execution_count": null,
      "outputs": [
        {
          "output_type": "execute_result",
          "data": {
            "text/plain": [
              "Tipo de Fundas     Acrigel  Marco  Reforzada\n",
              "Modelo de celular                           \n",
              "Honor                    0      0          2\n",
              "Iphone                  18     16         78\n",
              "Motorola                 2      0         17\n",
              "Oppo                     0      0          5\n",
              "Redmi                    1      0          1\n",
              "Samsung                 19      7         57\n",
              "Xiaomi                   1      1          3\n",
              "vivo                     0      0          1\n",
              "zte                     10      0          0"
            ],
            "text/html": [
              "\n",
              "  <div id=\"df-b2c38089-fa2c-4b64-8b86-13c7c142f2e9\" class=\"colab-df-container\">\n",
              "    <div>\n",
              "<style scoped>\n",
              "    .dataframe tbody tr th:only-of-type {\n",
              "        vertical-align: middle;\n",
              "    }\n",
              "\n",
              "    .dataframe tbody tr th {\n",
              "        vertical-align: top;\n",
              "    }\n",
              "\n",
              "    .dataframe thead th {\n",
              "        text-align: right;\n",
              "    }\n",
              "</style>\n",
              "<table border=\"1\" class=\"dataframe\">\n",
              "  <thead>\n",
              "    <tr style=\"text-align: right;\">\n",
              "      <th>Tipo de Fundas</th>\n",
              "      <th>Acrigel</th>\n",
              "      <th>Marco</th>\n",
              "      <th>Reforzada</th>\n",
              "    </tr>\n",
              "    <tr>\n",
              "      <th>Modelo de celular</th>\n",
              "      <th></th>\n",
              "      <th></th>\n",
              "      <th></th>\n",
              "    </tr>\n",
              "  </thead>\n",
              "  <tbody>\n",
              "    <tr>\n",
              "      <th>Honor</th>\n",
              "      <td>0</td>\n",
              "      <td>0</td>\n",
              "      <td>2</td>\n",
              "    </tr>\n",
              "    <tr>\n",
              "      <th>Iphone</th>\n",
              "      <td>18</td>\n",
              "      <td>16</td>\n",
              "      <td>78</td>\n",
              "    </tr>\n",
              "    <tr>\n",
              "      <th>Motorola</th>\n",
              "      <td>2</td>\n",
              "      <td>0</td>\n",
              "      <td>17</td>\n",
              "    </tr>\n",
              "    <tr>\n",
              "      <th>Oppo</th>\n",
              "      <td>0</td>\n",
              "      <td>0</td>\n",
              "      <td>5</td>\n",
              "    </tr>\n",
              "    <tr>\n",
              "      <th>Redmi</th>\n",
              "      <td>1</td>\n",
              "      <td>0</td>\n",
              "      <td>1</td>\n",
              "    </tr>\n",
              "    <tr>\n",
              "      <th>Samsung</th>\n",
              "      <td>19</td>\n",
              "      <td>7</td>\n",
              "      <td>57</td>\n",
              "    </tr>\n",
              "    <tr>\n",
              "      <th>Xiaomi</th>\n",
              "      <td>1</td>\n",
              "      <td>1</td>\n",
              "      <td>3</td>\n",
              "    </tr>\n",
              "    <tr>\n",
              "      <th>vivo</th>\n",
              "      <td>0</td>\n",
              "      <td>0</td>\n",
              "      <td>1</td>\n",
              "    </tr>\n",
              "    <tr>\n",
              "      <th>zte</th>\n",
              "      <td>10</td>\n",
              "      <td>0</td>\n",
              "      <td>0</td>\n",
              "    </tr>\n",
              "  </tbody>\n",
              "</table>\n",
              "</div>\n",
              "    <div class=\"colab-df-buttons\">\n",
              "\n",
              "  <div class=\"colab-df-container\">\n",
              "    <button class=\"colab-df-convert\" onclick=\"convertToInteractive('df-b2c38089-fa2c-4b64-8b86-13c7c142f2e9')\"\n",
              "            title=\"Convert this dataframe to an interactive table.\"\n",
              "            style=\"display:none;\">\n",
              "\n",
              "  <svg xmlns=\"http://www.w3.org/2000/svg\" height=\"24px\" viewBox=\"0 -960 960 960\">\n",
              "    <path d=\"M120-120v-720h720v720H120Zm60-500h600v-160H180v160Zm220 220h160v-160H400v160Zm0 220h160v-160H400v160ZM180-400h160v-160H180v160Zm440 0h160v-160H620v160ZM180-180h160v-160H180v160Zm440 0h160v-160H620v160Z\"/>\n",
              "  </svg>\n",
              "    </button>\n",
              "\n",
              "  <style>\n",
              "    .colab-df-container {\n",
              "      display:flex;\n",
              "      gap: 12px;\n",
              "    }\n",
              "\n",
              "    .colab-df-convert {\n",
              "      background-color: #E8F0FE;\n",
              "      border: none;\n",
              "      border-radius: 50%;\n",
              "      cursor: pointer;\n",
              "      display: none;\n",
              "      fill: #1967D2;\n",
              "      height: 32px;\n",
              "      padding: 0 0 0 0;\n",
              "      width: 32px;\n",
              "    }\n",
              "\n",
              "    .colab-df-convert:hover {\n",
              "      background-color: #E2EBFA;\n",
              "      box-shadow: 0px 1px 2px rgba(60, 64, 67, 0.3), 0px 1px 3px 1px rgba(60, 64, 67, 0.15);\n",
              "      fill: #174EA6;\n",
              "    }\n",
              "\n",
              "    .colab-df-buttons div {\n",
              "      margin-bottom: 4px;\n",
              "    }\n",
              "\n",
              "    [theme=dark] .colab-df-convert {\n",
              "      background-color: #3B4455;\n",
              "      fill: #D2E3FC;\n",
              "    }\n",
              "\n",
              "    [theme=dark] .colab-df-convert:hover {\n",
              "      background-color: #434B5C;\n",
              "      box-shadow: 0px 1px 3px 1px rgba(0, 0, 0, 0.15);\n",
              "      filter: drop-shadow(0px 1px 2px rgba(0, 0, 0, 0.3));\n",
              "      fill: #FFFFFF;\n",
              "    }\n",
              "  </style>\n",
              "\n",
              "    <script>\n",
              "      const buttonEl =\n",
              "        document.querySelector('#df-b2c38089-fa2c-4b64-8b86-13c7c142f2e9 button.colab-df-convert');\n",
              "      buttonEl.style.display =\n",
              "        google.colab.kernel.accessAllowed ? 'block' : 'none';\n",
              "\n",
              "      async function convertToInteractive(key) {\n",
              "        const element = document.querySelector('#df-b2c38089-fa2c-4b64-8b86-13c7c142f2e9');\n",
              "        const dataTable =\n",
              "          await google.colab.kernel.invokeFunction('convertToInteractive',\n",
              "                                                    [key], {});\n",
              "        if (!dataTable) return;\n",
              "\n",
              "        const docLinkHtml = 'Like what you see? Visit the ' +\n",
              "          '<a target=\"_blank\" href=https://colab.research.google.com/notebooks/data_table.ipynb>data table notebook</a>'\n",
              "          + ' to learn more about interactive tables.';\n",
              "        element.innerHTML = '';\n",
              "        dataTable['output_type'] = 'display_data';\n",
              "        await google.colab.output.renderOutput(dataTable, element);\n",
              "        const docLink = document.createElement('div');\n",
              "        docLink.innerHTML = docLinkHtml;\n",
              "        element.appendChild(docLink);\n",
              "      }\n",
              "    </script>\n",
              "  </div>\n",
              "\n",
              "\n",
              "<div id=\"df-1a18eac3-8346-4bcb-8127-6e0d5e28c79e\">\n",
              "  <button class=\"colab-df-quickchart\" onclick=\"quickchart('df-1a18eac3-8346-4bcb-8127-6e0d5e28c79e')\"\n",
              "            title=\"Suggest charts\"\n",
              "            style=\"display:none;\">\n",
              "\n",
              "<svg xmlns=\"http://www.w3.org/2000/svg\" height=\"24px\"viewBox=\"0 0 24 24\"\n",
              "     width=\"24px\">\n",
              "    <g>\n",
              "        <path d=\"M19 3H5c-1.1 0-2 .9-2 2v14c0 1.1.9 2 2 2h14c1.1 0 2-.9 2-2V5c0-1.1-.9-2-2-2zM9 17H7v-7h2v7zm4 0h-2V7h2v10zm4 0h-2v-4h2v4z\"/>\n",
              "    </g>\n",
              "</svg>\n",
              "  </button>\n",
              "\n",
              "<style>\n",
              "  .colab-df-quickchart {\n",
              "      --bg-color: #E8F0FE;\n",
              "      --fill-color: #1967D2;\n",
              "      --hover-bg-color: #E2EBFA;\n",
              "      --hover-fill-color: #174EA6;\n",
              "      --disabled-fill-color: #AAA;\n",
              "      --disabled-bg-color: #DDD;\n",
              "  }\n",
              "\n",
              "  [theme=dark] .colab-df-quickchart {\n",
              "      --bg-color: #3B4455;\n",
              "      --fill-color: #D2E3FC;\n",
              "      --hover-bg-color: #434B5C;\n",
              "      --hover-fill-color: #FFFFFF;\n",
              "      --disabled-bg-color: #3B4455;\n",
              "      --disabled-fill-color: #666;\n",
              "  }\n",
              "\n",
              "  .colab-df-quickchart {\n",
              "    background-color: var(--bg-color);\n",
              "    border: none;\n",
              "    border-radius: 50%;\n",
              "    cursor: pointer;\n",
              "    display: none;\n",
              "    fill: var(--fill-color);\n",
              "    height: 32px;\n",
              "    padding: 0;\n",
              "    width: 32px;\n",
              "  }\n",
              "\n",
              "  .colab-df-quickchart:hover {\n",
              "    background-color: var(--hover-bg-color);\n",
              "    box-shadow: 0 1px 2px rgba(60, 64, 67, 0.3), 0 1px 3px 1px rgba(60, 64, 67, 0.15);\n",
              "    fill: var(--button-hover-fill-color);\n",
              "  }\n",
              "\n",
              "  .colab-df-quickchart-complete:disabled,\n",
              "  .colab-df-quickchart-complete:disabled:hover {\n",
              "    background-color: var(--disabled-bg-color);\n",
              "    fill: var(--disabled-fill-color);\n",
              "    box-shadow: none;\n",
              "  }\n",
              "\n",
              "  .colab-df-spinner {\n",
              "    border: 2px solid var(--fill-color);\n",
              "    border-color: transparent;\n",
              "    border-bottom-color: var(--fill-color);\n",
              "    animation:\n",
              "      spin 1s steps(1) infinite;\n",
              "  }\n",
              "\n",
              "  @keyframes spin {\n",
              "    0% {\n",
              "      border-color: transparent;\n",
              "      border-bottom-color: var(--fill-color);\n",
              "      border-left-color: var(--fill-color);\n",
              "    }\n",
              "    20% {\n",
              "      border-color: transparent;\n",
              "      border-left-color: var(--fill-color);\n",
              "      border-top-color: var(--fill-color);\n",
              "    }\n",
              "    30% {\n",
              "      border-color: transparent;\n",
              "      border-left-color: var(--fill-color);\n",
              "      border-top-color: var(--fill-color);\n",
              "      border-right-color: var(--fill-color);\n",
              "    }\n",
              "    40% {\n",
              "      border-color: transparent;\n",
              "      border-right-color: var(--fill-color);\n",
              "      border-top-color: var(--fill-color);\n",
              "    }\n",
              "    60% {\n",
              "      border-color: transparent;\n",
              "      border-right-color: var(--fill-color);\n",
              "    }\n",
              "    80% {\n",
              "      border-color: transparent;\n",
              "      border-right-color: var(--fill-color);\n",
              "      border-bottom-color: var(--fill-color);\n",
              "    }\n",
              "    90% {\n",
              "      border-color: transparent;\n",
              "      border-bottom-color: var(--fill-color);\n",
              "    }\n",
              "  }\n",
              "</style>\n",
              "\n",
              "  <script>\n",
              "    async function quickchart(key) {\n",
              "      const quickchartButtonEl =\n",
              "        document.querySelector('#' + key + ' button');\n",
              "      quickchartButtonEl.disabled = true;  // To prevent multiple clicks.\n",
              "      quickchartButtonEl.classList.add('colab-df-spinner');\n",
              "      try {\n",
              "        const charts = await google.colab.kernel.invokeFunction(\n",
              "            'suggestCharts', [key], {});\n",
              "      } catch (error) {\n",
              "        console.error('Error during call to suggestCharts:', error);\n",
              "      }\n",
              "      quickchartButtonEl.classList.remove('colab-df-spinner');\n",
              "      quickchartButtonEl.classList.add('colab-df-quickchart-complete');\n",
              "    }\n",
              "    (() => {\n",
              "      let quickchartButtonEl =\n",
              "        document.querySelector('#df-1a18eac3-8346-4bcb-8127-6e0d5e28c79e button');\n",
              "      quickchartButtonEl.style.display =\n",
              "        google.colab.kernel.accessAllowed ? 'block' : 'none';\n",
              "    })();\n",
              "  </script>\n",
              "</div>\n",
              "\n",
              "  <div id=\"id_fa98ea42-6523-4d7c-8b7c-6de8312649b1\">\n",
              "    <style>\n",
              "      .colab-df-generate {\n",
              "        background-color: #E8F0FE;\n",
              "        border: none;\n",
              "        border-radius: 50%;\n",
              "        cursor: pointer;\n",
              "        display: none;\n",
              "        fill: #1967D2;\n",
              "        height: 32px;\n",
              "        padding: 0 0 0 0;\n",
              "        width: 32px;\n",
              "      }\n",
              "\n",
              "      .colab-df-generate:hover {\n",
              "        background-color: #E2EBFA;\n",
              "        box-shadow: 0px 1px 2px rgba(60, 64, 67, 0.3), 0px 1px 3px 1px rgba(60, 64, 67, 0.15);\n",
              "        fill: #174EA6;\n",
              "      }\n",
              "\n",
              "      [theme=dark] .colab-df-generate {\n",
              "        background-color: #3B4455;\n",
              "        fill: #D2E3FC;\n",
              "      }\n",
              "\n",
              "      [theme=dark] .colab-df-generate:hover {\n",
              "        background-color: #434B5C;\n",
              "        box-shadow: 0px 1px 3px 1px rgba(0, 0, 0, 0.15);\n",
              "        filter: drop-shadow(0px 1px 2px rgba(0, 0, 0, 0.3));\n",
              "        fill: #FFFFFF;\n",
              "      }\n",
              "    </style>\n",
              "    <button class=\"colab-df-generate\" onclick=\"generateWithVariable('df_conteo_material')\"\n",
              "            title=\"Generate code using this dataframe.\"\n",
              "            style=\"display:none;\">\n",
              "\n",
              "  <svg xmlns=\"http://www.w3.org/2000/svg\" height=\"24px\"viewBox=\"0 0 24 24\"\n",
              "       width=\"24px\">\n",
              "    <path d=\"M7,19H8.4L18.45,9,17,7.55,7,17.6ZM5,21V16.75L18.45,3.32a2,2,0,0,1,2.83,0l1.4,1.43a1.91,1.91,0,0,1,.58,1.4,1.91,1.91,0,0,1-.58,1.4L9.25,21ZM18.45,9,17,7.55Zm-12,3A5.31,5.31,0,0,0,4.9,8.1,5.31,5.31,0,0,0,1,6.5,5.31,5.31,0,0,0,4.9,4.9,5.31,5.31,0,0,0,6.5,1,5.31,5.31,0,0,0,8.1,4.9,5.31,5.31,0,0,0,12,6.5,5.46,5.46,0,0,0,6.5,12Z\"/>\n",
              "  </svg>\n",
              "    </button>\n",
              "    <script>\n",
              "      (() => {\n",
              "      const buttonEl =\n",
              "        document.querySelector('#id_fa98ea42-6523-4d7c-8b7c-6de8312649b1 button.colab-df-generate');\n",
              "      buttonEl.style.display =\n",
              "        google.colab.kernel.accessAllowed ? 'block' : 'none';\n",
              "\n",
              "      buttonEl.onclick = () => {\n",
              "        google.colab.notebook.generateWithVariable('df_conteo_material');\n",
              "      }\n",
              "      })();\n",
              "    </script>\n",
              "  </div>\n",
              "\n",
              "    </div>\n",
              "  </div>\n"
            ],
            "application/vnd.google.colaboratory.intrinsic+json": {
              "type": "dataframe",
              "variable_name": "df_conteo_material",
              "summary": "{\n  \"name\": \"df_conteo_material\",\n  \"rows\": 9,\n  \"fields\": [\n    {\n      \"column\": \"Modelo de celular\",\n      \"properties\": {\n        \"dtype\": \"string\",\n        \"num_unique_values\": 9,\n        \"samples\": [\n          \"vivo\",\n          \"Iphone\",\n          \"Samsung\"\n        ],\n        \"semantic_type\": \"\",\n        \"description\": \"\"\n      }\n    },\n    {\n      \"column\": \"Acrigel\",\n      \"properties\": {\n        \"dtype\": \"number\",\n        \"std\": 7,\n        \"min\": 0,\n        \"max\": 19,\n        \"num_unique_values\": 6,\n        \"samples\": [\n          0,\n          18,\n          10\n        ],\n        \"semantic_type\": \"\",\n        \"description\": \"\"\n      }\n    },\n    {\n      \"column\": \"Marco\",\n      \"properties\": {\n        \"dtype\": \"number\",\n        \"std\": 5,\n        \"min\": 0,\n        \"max\": 16,\n        \"num_unique_values\": 4,\n        \"samples\": [\n          16,\n          1,\n          0\n        ],\n        \"semantic_type\": \"\",\n        \"description\": \"\"\n      }\n    },\n    {\n      \"column\": \"Reforzada\",\n      \"properties\": {\n        \"dtype\": \"number\",\n        \"std\": 28,\n        \"min\": 0,\n        \"max\": 78,\n        \"num_unique_values\": 8,\n        \"samples\": [\n          78,\n          57,\n          2\n        ],\n        \"semantic_type\": \"\",\n        \"description\": \"\"\n      }\n    }\n  ]\n}"
            }
          },
          "metadata": {},
          "execution_count": 8
        }
      ]
    },
    {
      "cell_type": "markdown",
      "source": [
        "Conteo del tipo de material de fundas mas vendidas"
      ],
      "metadata": {
        "id": "gEK590BGdDcC"
      },
      "id": "gEK590BGdDcC"
    },
    {
      "cell_type": "code",
      "source": [
        "#conteo de las fundas de acrigel, marco y refozada\n",
        "df_conteo_material_total=df['Tipo de Fundas'].value_counts()\n",
        "df_conteo_material_total"
      ],
      "metadata": {
        "colab": {
          "base_uri": "https://localhost:8080/",
          "height": 209
        },
        "id": "vZP6X23rdHll",
        "outputId": "c29c6013-a228-47fc-fc5a-c19ef408318a"
      },
      "id": "vZP6X23rdHll",
      "execution_count": null,
      "outputs": [
        {
          "output_type": "execute_result",
          "data": {
            "text/plain": [
              "Tipo de Fundas\n",
              "Reforzada    164\n",
              "Acrigel       51\n",
              "Marco         24\n",
              "Name: count, dtype: int64"
            ],
            "text/html": [
              "<div>\n",
              "<style scoped>\n",
              "    .dataframe tbody tr th:only-of-type {\n",
              "        vertical-align: middle;\n",
              "    }\n",
              "\n",
              "    .dataframe tbody tr th {\n",
              "        vertical-align: top;\n",
              "    }\n",
              "\n",
              "    .dataframe thead th {\n",
              "        text-align: right;\n",
              "    }\n",
              "</style>\n",
              "<table border=\"1\" class=\"dataframe\">\n",
              "  <thead>\n",
              "    <tr style=\"text-align: right;\">\n",
              "      <th></th>\n",
              "      <th>count</th>\n",
              "    </tr>\n",
              "    <tr>\n",
              "      <th>Tipo de Fundas</th>\n",
              "      <th></th>\n",
              "    </tr>\n",
              "  </thead>\n",
              "  <tbody>\n",
              "    <tr>\n",
              "      <th>Reforzada</th>\n",
              "      <td>164</td>\n",
              "    </tr>\n",
              "    <tr>\n",
              "      <th>Acrigel</th>\n",
              "      <td>51</td>\n",
              "    </tr>\n",
              "    <tr>\n",
              "      <th>Marco</th>\n",
              "      <td>24</td>\n",
              "    </tr>\n",
              "  </tbody>\n",
              "</table>\n",
              "</div><br><label><b>dtype:</b> int64</label>"
            ]
          },
          "metadata": {},
          "execution_count": 9
        }
      ]
    },
    {
      "cell_type": "markdown",
      "source": [
        "Nos damos cuenta que los valores mas vendidos es de las fundas reforzadas y le sigue la de acrigel, donde presenta no muchas ventas las de Marco"
      ],
      "metadata": {
        "id": "eahSeRi1dUW4"
      },
      "id": "eahSeRi1dUW4"
    },
    {
      "cell_type": "markdown",
      "source": [
        "### Ingresos por modelo de celular\n",
        "¿Con qué modelos estás generando más dinero? Haremos un conteo ahora de cuanta ganancia deja cada tipo de funda"
      ],
      "metadata": {
        "id": "VKYlDRajdh6F"
      },
      "id": "VKYlDRajdh6F"
    },
    {
      "cell_type": "code",
      "source": [
        "#Conteo de ingeros\n",
        "Df_conteo_ganancia=df.groupby(['Modelo de celular'])['Precio'].sum()\n",
        "Df_conteo_ganancia"
      ],
      "metadata": {
        "colab": {
          "base_uri": "https://localhost:8080/",
          "height": 397
        },
        "id": "Ys_3zex6dflN",
        "outputId": "8b46e370-776d-472b-8b1c-7939073ab1b2"
      },
      "id": "Ys_3zex6dflN",
      "execution_count": null,
      "outputs": [
        {
          "output_type": "execute_result",
          "data": {
            "text/plain": [
              "Modelo de celular\n",
              "Honor         580\n",
              "Iphone      31340\n",
              "Motorola     5330\n",
              "Oppo         1450\n",
              "Redmi         490\n",
              "Samsung     22570\n",
              "Xiaomi       1390\n",
              "vivo          290\n",
              "zte          2000\n",
              "Name: Precio, dtype: int64"
            ],
            "text/html": [
              "<div>\n",
              "<style scoped>\n",
              "    .dataframe tbody tr th:only-of-type {\n",
              "        vertical-align: middle;\n",
              "    }\n",
              "\n",
              "    .dataframe tbody tr th {\n",
              "        vertical-align: top;\n",
              "    }\n",
              "\n",
              "    .dataframe thead th {\n",
              "        text-align: right;\n",
              "    }\n",
              "</style>\n",
              "<table border=\"1\" class=\"dataframe\">\n",
              "  <thead>\n",
              "    <tr style=\"text-align: right;\">\n",
              "      <th></th>\n",
              "      <th>Precio</th>\n",
              "    </tr>\n",
              "    <tr>\n",
              "      <th>Modelo de celular</th>\n",
              "      <th></th>\n",
              "    </tr>\n",
              "  </thead>\n",
              "  <tbody>\n",
              "    <tr>\n",
              "      <th>Honor</th>\n",
              "      <td>580</td>\n",
              "    </tr>\n",
              "    <tr>\n",
              "      <th>Iphone</th>\n",
              "      <td>31340</td>\n",
              "    </tr>\n",
              "    <tr>\n",
              "      <th>Motorola</th>\n",
              "      <td>5330</td>\n",
              "    </tr>\n",
              "    <tr>\n",
              "      <th>Oppo</th>\n",
              "      <td>1450</td>\n",
              "    </tr>\n",
              "    <tr>\n",
              "      <th>Redmi</th>\n",
              "      <td>490</td>\n",
              "    </tr>\n",
              "    <tr>\n",
              "      <th>Samsung</th>\n",
              "      <td>22570</td>\n",
              "    </tr>\n",
              "    <tr>\n",
              "      <th>Xiaomi</th>\n",
              "      <td>1390</td>\n",
              "    </tr>\n",
              "    <tr>\n",
              "      <th>vivo</th>\n",
              "      <td>290</td>\n",
              "    </tr>\n",
              "    <tr>\n",
              "      <th>zte</th>\n",
              "      <td>2000</td>\n",
              "    </tr>\n",
              "  </tbody>\n",
              "</table>\n",
              "</div><br><label><b>dtype:</b> int64</label>"
            ]
          },
          "metadata": {},
          "execution_count": 10
        }
      ]
    },
    {
      "cell_type": "markdown",
      "source": [
        "### Tendencias mensuales de pedidos\n",
        "veremos como se mueven las ventas a lo largo del tiempo. En que mes vendemos mas fundas"
      ],
      "metadata": {
        "id": "4wAu_G1heu9V"
      },
      "id": "4wAu_G1heu9V"
    },
    {
      "cell_type": "code",
      "source": [
        "df['Mes'] = df['Fecha de entrega'].dt.month\n",
        "ventas_por_mes = df['Mes'].value_counts().sort_index()\n",
        "ventas_por_mes.plot(kind='bar')\n",
        "plt.title('Ventas Mensuales')\n",
        "plt.xlabel('Mes')\n",
        "plt.ylabel('Número de Ventas')"
      ],
      "metadata": {
        "colab": {
          "base_uri": "https://localhost:8080/",
          "height": 492
        },
        "id": "md5AlvHHdB27",
        "outputId": "9fca7269-39b2-4e47-844d-48e01b0d4ba0"
      },
      "id": "md5AlvHHdB27",
      "execution_count": null,
      "outputs": [
        {
          "output_type": "execute_result",
          "data": {
            "text/plain": [
              "Text(0, 0.5, 'Número de Ventas')"
            ]
          },
          "metadata": {},
          "execution_count": 11
        },
        {
          "output_type": "display_data",
          "data": {
            "text/plain": [
              "<Figure size 640x480 with 1 Axes>"
            ],
            "image/png": "[encoded data removed]"
          },
          "metadata": {}
        }
      ]
    },
    {
      "cell_type": "markdown",
      "source": [
        "Como se aprecia, tenemos mas ventas en el mes de Abril, Diciembre y Enero"
      ],
      "metadata": {
        "id": "2GrfSNsLfZ21"
      },
      "id": "2GrfSNsLfZ21"
    },
    {
      "cell_type": "markdown",
      "source": [
        "### ¿Qué red social genera más ventas?\n",
        "Analiza cuál es tu canal más fuerte: TikTok, Insta, Facebook o ventas directas. Esto te ayuda a decidir dónde meterle más contenido o anuncios."
      ],
      "metadata": {
        "id": "5TxOS8xNf4Sg"
      },
      "id": "5TxOS8xNf4Sg"
    },
    {
      "cell_type": "code",
      "source": [
        "df_Red_social=df['Red social de venta'].value_counts()\n",
        "df_Red_social"
      ],
      "metadata": {
        "colab": {
          "base_uri": "https://localhost:8080/",
          "height": 209
        },
        "id": "2shsZGcmf51n",
        "outputId": "ce84d5a9-2fae-49cf-92b7-0b55c67e6c3a"
      },
      "id": "2shsZGcmf51n",
      "execution_count": null,
      "outputs": [
        {
          "output_type": "execute_result",
          "data": {
            "text/plain": [
              "Red social de venta\n",
              "Facebook     251\n",
              "Instagram     69\n",
              "Whatsapp       4\n",
              "Name: count, dtype: int64"
            ],
            "text/html": [
              "<div>\n",
              "<style scoped>\n",
              "    .dataframe tbody tr th:only-of-type {\n",
              "        vertical-align: middle;\n",
              "    }\n",
              "\n",
              "    .dataframe tbody tr th {\n",
              "        vertical-align: top;\n",
              "    }\n",
              "\n",
              "    .dataframe thead th {\n",
              "        text-align: right;\n",
              "    }\n",
              "</style>\n",
              "<table border=\"1\" class=\"dataframe\">\n",
              "  <thead>\n",
              "    <tr style=\"text-align: right;\">\n",
              "      <th></th>\n",
              "      <th>count</th>\n",
              "    </tr>\n",
              "    <tr>\n",
              "      <th>Red social de venta</th>\n",
              "      <th></th>\n",
              "    </tr>\n",
              "  </thead>\n",
              "  <tbody>\n",
              "    <tr>\n",
              "      <th>Facebook</th>\n",
              "      <td>251</td>\n",
              "    </tr>\n",
              "    <tr>\n",
              "      <th>Instagram</th>\n",
              "      <td>69</td>\n",
              "    </tr>\n",
              "    <tr>\n",
              "      <th>Whatsapp</th>\n",
              "      <td>4</td>\n",
              "    </tr>\n",
              "  </tbody>\n",
              "</table>\n",
              "</div><br><label><b>dtype:</b> int64</label>"
            ]
          },
          "metadata": {},
          "execution_count": 12
        }
      ]
    },
    {
      "cell_type": "markdown",
      "source": [
        "Aunque aqui presente una gran cantidad de ventas en Facebook, de la misma manera es dificil porque no se puede meter publicidad, un extra aqui deberia ser la publicidad en **Tik tok** que ha ayudado a tener mas relevancia con las ventas."
      ],
      "metadata": {
        "id": "Hz4akJjlgJMr"
      },
      "id": "Hz4akJjlgJMr"
    },
    {
      "cell_type": "markdown",
      "source": [
        "#Sudaderas y Playeras"
      ],
      "metadata": {
        "id": "zwjaNSAbhIQf"
      },
      "id": "zwjaNSAbhIQf"
    },
    {
      "cell_type": "markdown",
      "source": [
        "Empezaremos con un analisis mas detallado de todo esto, primero contaremos que productos son los que se venden mas, playeras o sudaderas"
      ],
      "metadata": {
        "id": "VVkBBc1ZhLJg"
      },
      "id": "VVkBBc1ZhLJg"
    },
    {
      "cell_type": "code",
      "source": [
        "df.columns"
      ],
      "metadata": {
        "colab": {
          "base_uri": "https://localhost:8080/"
        },
        "id": "mG2ZDi2UhKQv",
        "outputId": "4866003a-56b0-4d22-e0d7-a7aa15ad6fa0"
      },
      "id": "mG2ZDi2UhKQv",
      "execution_count": null,
      "outputs": [
        {
          "output_type": "execute_result",
          "data": {
            "text/plain": [
              "Index(['Diseños pedidos', 'Modelo de celular', 'Modelo numero', 'Talla',\n",
              "       'Tamaño', 'Diseño completos', 'Anticipo', 'Pagos', 'Tipo de Fundas',\n",
              "       'Color', 'Cliente', 'Producto ', 'Lugar', 'Fecha de entrega',\n",
              "       'Red social de venta', 'Precio', 'Lugares de Envio', 'Mes'],\n",
              "      dtype='object')"
            ]
          },
          "metadata": {},
          "execution_count": 13
        }
      ]
    },
    {
      "cell_type": "markdown",
      "source": [
        "  Cuantas sudaderas se vendieron\n"
      ],
      "metadata": {
        "id": "8e3VEx49mscG"
      },
      "id": "8e3VEx49mscG"
    },
    {
      "cell_type": "code",
      "source": [
        "df_conteo_sudaderas=df[df['Producto ']=='Sudadera'].shape[0]\n",
        "df_conteo_playeras=df[df['Producto ']=='Playera'].shape[0]\n",
        "print('Sudaderas',df_conteo_sudaderas)\n",
        "print('Playeras',df_conteo_playeras)"
      ],
      "metadata": {
        "colab": {
          "base_uri": "https://localhost:8080/"
        },
        "id": "5ye2N4WuhoW3",
        "outputId": "6a056f2c-0572-49fa-cd0f-b7db28ef817f"
      },
      "id": "5ye2N4WuhoW3",
      "execution_count": null,
      "outputs": [
        {
          "output_type": "stream",
          "name": "stdout",
          "text": [
            "Sudaderas 29\n",
            "Playeras 14\n"
          ]
        }
      ]
    },
    {
      "cell_type": "markdown",
      "source": [
        "Se puede observar que el producto mas vendido en personalizacion de prendas es las sudaderas"
      ],
      "metadata": {
        "id": "jB7IsSdLmwL_"
      },
      "id": "jB7IsSdLmwL_"
    },
    {
      "cell_type": "code",
      "source": [
        "df_conteo_sudaderas_talla = df[df['Producto '] == 'Sudadera'].groupby('Talla')['Talla'].count()\n",
        "df_conteo_playeras_talla=df[df['Producto ']=='Playera'].groupby('Talla')['Talla'].count()\n",
        "\n",
        "print('talla por sudadera',df_conteo_sudaderas_talla)\n",
        "print('talla por playera',df_conteo_playeras_talla)"
      ],
      "metadata": {
        "colab": {
          "base_uri": "https://localhost:8080/"
        },
        "id": "uITIkTz6izmb",
        "outputId": "b7aacf56-4bab-40fb-b3c3-580c44e7f39b"
      },
      "id": "uITIkTz6izmb",
      "execution_count": null,
      "outputs": [
        {
          "output_type": "stream",
          "name": "stdout",
          "text": [
            "talla por sudadera Talla\n",
            "Chica            6\n",
            "Extra Grande     6\n",
            "Grande          14\n",
            "Mediana          3\n",
            "Name: Talla, dtype: int64\n",
            "talla por playera Talla\n",
            "Chica      1\n",
            "Grande     6\n",
            "Mediana    7\n",
            "Name: Talla, dtype: int64\n"
          ]
        }
      ]
    },
    {
      "cell_type": "markdown",
      "source": [
        "Mes donde se vendio mas prendas"
      ],
      "metadata": {
        "id": "ayZoW1cGm3YT"
      },
      "id": "ayZoW1cGm3YT"
    },
    {
      "cell_type": "code",
      "source": [
        "df['Mes'] = df['Fecha de entrega'].dt.month\n",
        "ventas_por_mes = df[df['Producto '] == 'Sudadera']['Mes'].value_counts().sort_index()\n",
        "ventas_por_mes.plot(kind='bar')\n",
        "plt.title('Ventas Mensuales')\n",
        "plt.xlabel('Mes')\n",
        "plt.ylabel('Número de Ventas')\n",
        "plt.xlabel('Mes')\n",
        "plt.ylabel('Número de Ventas')"
      ],
      "metadata": {
        "colab": {
          "base_uri": "https://localhost:8080/",
          "height": 492
        },
        "id": "RRu0T1SOj-Un",
        "outputId": "587ac1c7-b298-4ed4-ec72-03447a6c82bc"
      },
      "id": "RRu0T1SOj-Un",
      "execution_count": null,
      "outputs": [
        {
          "output_type": "execute_result",
          "data": {
            "text/plain": [
              "Text(0, 0.5, 'Número de Ventas')"
            ]
          },
          "metadata": {},
          "execution_count": 16
        },
        {
          "output_type": "display_data",
          "data": {
            "text/plain": [
              "<Figure size 640x480 with 1 Axes>"
            ],
            "image/png": "[encoded data removed]"
          },
          "metadata": {}
        }
      ]
    },
    {
      "cell_type": "markdown",
      "source": [
        "Se vendieron mas prendas en diciembre y enero"
      ],
      "metadata": {
        "id": "FKc6GzoBnAfp"
      },
      "id": "FKc6GzoBnAfp"
    },
    {
      "cell_type": "markdown",
      "source": [
        "#Cuadros Personalizados"
      ],
      "metadata": {
        "id": "XZ2jpw8rnWrT"
      },
      "id": "XZ2jpw8rnWrT"
    },
    {
      "cell_type": "markdown",
      "source": [
        "Analizaremos cual tamaño de cuadro se vendieron más"
      ],
      "metadata": {
        "id": "hYa9F-GKnhfE"
      },
      "id": "hYa9F-GKnhfE"
    },
    {
      "cell_type": "code",
      "source": [
        "#Agrupando los tamaños de cuadros con el producto\n",
        "df_cuadros=df[df['Producto ']=='Cuadro'].shape[0]\n",
        "print('se vendieron:',df_cuadros,'cuadros')\n",
        "df_cuadros_tamaño=df[df['Producto ']=='Cuadro'].groupby('Tamaño')['Tamaño'].value_counts()\n",
        "print('tamaño de cuadros vendidos',df_cuadros_tamaño)"
      ],
      "metadata": {
        "colab": {
          "base_uri": "https://localhost:8080/"
        },
        "id": "-wjd85zQnZRk",
        "outputId": "e8b33cc8-f49d-4b06-f667-665895489c66"
      },
      "id": "-wjd85zQnZRk",
      "execution_count": null,
      "outputs": [
        {
          "output_type": "stream",
          "name": "stdout",
          "text": [
            "se vendieron: 38 cuadros\n",
            "tamaño de cuadros vendidos Tamaño\n",
            "CARTA          34\n",
            "DOBLE CARTA     2\n",
            "MEDIA CARTA     2\n",
            "Name: count, dtype: int64\n"
          ]
        }
      ]
    },
    {
      "cell_type": "markdown",
      "source": [
        "El tamaño de cuadro mas vendido es el Carta quiza por lo visual y que se puede apreciar mejor el diseño"
      ],
      "metadata": {
        "id": "RScV5qKQokNA"
      },
      "id": "RScV5qKQokNA"
    },
    {
      "cell_type": "markdown",
      "source": [
        "Observaremos las ventas al mes"
      ],
      "metadata": {
        "id": "QEhw3iRgpC8r"
      },
      "id": "QEhw3iRgpC8r"
    },
    {
      "cell_type": "code",
      "source": [
        "df['Mes'] = df['Fecha de entrega'].dt.month\n",
        "ventas_por_mes = df[df['Producto '] == 'Cuadro']['Mes'].value_counts().sort_index()\n",
        "ventas_por_mes.plot(kind='bar',color='Orange')\n",
        "plt.title('Ventas Mensuales de Cuadros')\n",
        "plt.xlabel('Mes')\n",
        "plt.ylabel('Número de Ventas')\n",
        "plt.xlabel('Mes')\n",
        "plt.ylabel('Número de Ventas')"
      ],
      "metadata": {
        "colab": {
          "base_uri": "https://localhost:8080/",
          "height": 484
        },
        "id": "OakJNWJOnmSv",
        "outputId": "ebb271b9-861c-462f-8150-1d872d0b47fd"
      },
      "id": "OakJNWJOnmSv",
      "execution_count": null,
      "outputs": [
        {
          "output_type": "execute_result",
          "data": {
            "text/plain": [
              "Text(0, 0.5, 'Número de Ventas')"
            ]
          },
          "metadata": {},
          "execution_count": 18
        },
        {
          "output_type": "display_data",
          "data": {
            "text/plain": [
              "<Figure size 640x480 with 1 Axes>"
            ],
            "image/png": "[encoded data removed]"
          },
          "metadata": {}
        }
      ]
    },
    {
      "cell_type": "markdown",
      "source": [
        "#Ventas totales"
      ],
      "metadata": {
        "id": "vYZTrkVSrPRc"
      },
      "id": "vYZTrkVSrPRc"
    },
    {
      "cell_type": "code",
      "source": [
        "#tomaremos la columna de precios ya que es la mas completa por valortes\n",
        "Ventas_totales=df['Precio'].value_counts().sum()\n",
        "print('Ventas totales:',Ventas_totales)"
      ],
      "metadata": {
        "colab": {
          "base_uri": "https://localhost:8080/"
        },
        "id": "-VTxAibirRXM",
        "outputId": "6413e549-35c1-4e4e-a9a5-3d2ed864c9f7"
      },
      "id": "-VTxAibirRXM",
      "execution_count": null,
      "outputs": [
        {
          "output_type": "stream",
          "name": "stdout",
          "text": [
            "Ventas totales: 324\n"
          ]
        }
      ]
    },
    {
      "cell_type": "code",
      "source": [
        "#Ingresos de un año registrados\n",
        "Ingresos_totales=df['Precio'].sum()\n",
        "print('Ingresos totales:$',Ingresos_totales)"
      ],
      "metadata": {
        "colab": {
          "base_uri": "https://localhost:8080/"
        },
        "id": "oER8TE3brpbB",
        "outputId": "edcc5fda-8db0-4593-ede0-8f122ee4c465"
      },
      "id": "oER8TE3brpbB",
      "execution_count": null,
      "outputs": [
        {
          "output_type": "stream",
          "name": "stdout",
          "text": [
            "Ingresos totales:$ 91310\n"
          ]
        }
      ]
    },
    {
      "cell_type": "code",
      "source": [
        "#Promedio de ventas y de productos en total\n",
        "Promedio_de_ventas=Ventas_totales/len(df)\n",
        "print('Promedio de ventas:',Promedio_de_ventas)"
      ],
      "metadata": {
        "colab": {
          "base_uri": "https://localhost:8080/"
        },
        "id": "QowCaKkSsKek",
        "outputId": "070254a1-cef1-41ca-d190-b946f9848f66"
      },
      "id": "QowCaKkSsKek",
      "execution_count": null,
      "outputs": [
        {
          "output_type": "stream",
          "name": "stdout",
          "text": [
            "Promedio de ventas: 1.0\n"
          ]
        }
      ]
    },
    {
      "cell_type": "code",
      "source": [
        "#Producto mayor vendido\n",
        "producto_top = df['Producto '].value_counts().idxmax()\n",
        "print('Producto más vendido', producto_top)"
      ],
      "metadata": {
        "colab": {
          "base_uri": "https://localhost:8080/"
        },
        "id": "kXm0-PbRsWWD",
        "outputId": "74847f39-afab-414b-ce96-9fbd5b374b14"
      },
      "id": "kXm0-PbRsWWD",
      "execution_count": null,
      "outputs": [
        {
          "output_type": "stream",
          "name": "stdout",
          "text": [
            "Producto más vendido Funda\n"
          ]
        }
      ]
    },
    {
      "cell_type": "markdown",
      "source": [
        "#Visualización de estos Datos"
      ],
      "metadata": {
        "id": "kiXy4fgys_S7"
      },
      "id": "kiXy4fgys_S7"
    },
    {
      "cell_type": "code",
      "source": [
        "#Grafica de los productos mas vendidos\n",
        "producto_mas_vendidos=df['Producto '].value_counts()\n",
        "producto_mas_vendidos.plot(kind='bar',color='Green')\n",
        "plt.title('Productos mas vendidos')\n",
        "plt.xlabel('Productos')\n",
        "plt.ylabel('Número de Ventas')"
      ],
      "metadata": {
        "colab": {
          "base_uri": "https://localhost:8080/",
          "height": 541
        },
        "id": "t1ocdI_MtBcv",
        "outputId": "28f47a2c-9344-43f5-dd2c-ea75fdda5710"
      },
      "id": "t1ocdI_MtBcv",
      "execution_count": null,
      "outputs": [
        {
          "output_type": "execute_result",
          "data": {
            "text/plain": [
              "Text(0, 0.5, 'Número de Ventas')"
            ]
          },
          "metadata": {},
          "execution_count": 23
        },
        {
          "output_type": "display_data",
          "data": {
            "text/plain": [
              "<Figure size 640x480 with 1 Axes>"
            ],
            "image/png": "[encoded data removed]"
          },
          "metadata": {}
        }
      ]
    },
    {
      "cell_type": "code",
      "source": [
        "#Grafico Circular para visualizar todo el tipo de funda mas solcitada\n",
        "df_conteo_material_total.plotpie = df_conteo_material_total.plot(kind='pie', autopct='%1.1f%%', startangle=90)\n",
        "plt.title('Distribución de Tipos de Fundas')\n",
        "plt.ylabel('')\n",
        "plt.show()"
      ],
      "metadata": {
        "colab": {
          "base_uri": "https://localhost:8080/",
          "height": 429
        },
        "id": "dWtUqCbltMtt",
        "outputId": "64da448d-d4f9-4da4-d5dd-481dd4469bcf"
      },
      "id": "dWtUqCbltMtt",
      "execution_count": null,
      "outputs": [
        {
          "output_type": "display_data",
          "data": {
            "text/plain": [
              "<Figure size 640x480 with 1 Axes>"
            ],
            "image/png": "[encoded data removed]"
          },
          "metadata": {}
        }
      ]
    },
    {
      "cell_type": "code",
      "source": [
        "#Grafico de lineas por mes\n",
        "df['Mes'] = df['Fecha de entrega'].dt.month\n",
        "ventas_por_mes = df['Mes'].value_counts().sort_index()\n",
        "ventas_por_mes.plot(kind='line', marker='o', color='purple')\n",
        "plt.title('Ventas Mensuales')\n",
        "plt.xlabel('Mes')\n",
        "plt.ylabel('Número de Ventas')"
      ],
      "metadata": {
        "colab": {
          "base_uri": "https://localhost:8080/",
          "height": 489
        },
        "id": "DcP_TYYft5Nx",
        "outputId": "89a4126c-2fcb-41d0-b97f-e8e37f8db903"
      },
      "id": "DcP_TYYft5Nx",
      "execution_count": null,
      "outputs": [
        {
          "output_type": "execute_result",
          "data": {
            "text/plain": [
              "Text(0, 0.5, 'Número de Ventas')"
            ]
          },
          "metadata": {},
          "execution_count": 25
        },
        {
          "output_type": "display_data",
          "data": {
            "text/plain": [
              "<Figure size 640x480 with 1 Axes>"
            ],
            "image/png": "[encoded data removed]"
          },
          "metadata": {}
        }
      ]
    },
    {
      "cell_type": "code",
      "source": [],
      "metadata": {
        "id": "dSH6g6ZTuBCR"
      },
      "id": "dSH6g6ZTuBCR",
      "execution_count": null,
      "outputs": []
    },
    {
      "cell_type": "markdown",
      "source": [],
      "metadata": {
        "id": "pHvNq6EkT_9K"
      },
      "id": "pHvNq6EkT_9K"
    },
    {
      "cell_type": "markdown",
      "source": [
        "#Cuestionamientos importantes"
      ],
      "metadata": {
        "id": "J5F0CmSxvDYy"
      },
      "id": "J5F0CmSxvDYy"
    },
    {
      "cell_type": "markdown",
      "source": [
        "###¿Qué productos ya no vale la pena fabricar?"
      ],
      "metadata": {
        "id": "u_p7NKaFvSC4"
      },
      "id": "u_p7NKaFvSC4"
    },
    {
      "cell_type": "code",
      "source": [
        "#Ordenaremos las ventas\n",
        "df_conteo_productos=df['Producto '].value_counts()\n",
        "df_conteo_productos\n",
        "#ordenaremos en orden\n",
        "df_conteo_productos_ordenados=df_conteo_productos.sort_values(inplace=False)\n",
        "df_conteo_productos_ordenados"
      ],
      "metadata": {
        "colab": {
          "base_uri": "https://localhost:8080/",
          "height": 272
        },
        "id": "9FzrOab0vMge",
        "outputId": "1f7371b7-6444-40e8-c3f7-e03538559f69"
      },
      "id": "9FzrOab0vMge",
      "execution_count": null,
      "outputs": [
        {
          "output_type": "execute_result",
          "data": {
            "text/plain": [
              "Producto \n",
              "sudadera      4\n",
              "Playera      14\n",
              "Sudadera     29\n",
              "Cuadro       38\n",
              "Funda       239\n",
              "Name: count, dtype: int64"
            ],
            "text/html": [
              "<div>\n",
              "<style scoped>\n",
              "    .dataframe tbody tr th:only-of-type {\n",
              "        vertical-align: middle;\n",
              "    }\n",
              "\n",
              "    .dataframe tbody tr th {\n",
              "        vertical-align: top;\n",
              "    }\n",
              "\n",
              "    .dataframe thead th {\n",
              "        text-align: right;\n",
              "    }\n",
              "</style>\n",
              "<table border=\"1\" class=\"dataframe\">\n",
              "  <thead>\n",
              "    <tr style=\"text-align: right;\">\n",
              "      <th></th>\n",
              "      <th>count</th>\n",
              "    </tr>\n",
              "    <tr>\n",
              "      <th>Producto</th>\n",
              "      <th></th>\n",
              "    </tr>\n",
              "  </thead>\n",
              "  <tbody>\n",
              "    <tr>\n",
              "      <th>sudadera</th>\n",
              "      <td>4</td>\n",
              "    </tr>\n",
              "    <tr>\n",
              "      <th>Playera</th>\n",
              "      <td>14</td>\n",
              "    </tr>\n",
              "    <tr>\n",
              "      <th>Sudadera</th>\n",
              "      <td>29</td>\n",
              "    </tr>\n",
              "    <tr>\n",
              "      <th>Cuadro</th>\n",
              "      <td>38</td>\n",
              "    </tr>\n",
              "    <tr>\n",
              "      <th>Funda</th>\n",
              "      <td>239</td>\n",
              "    </tr>\n",
              "  </tbody>\n",
              "</table>\n",
              "</div><br><label><b>dtype:</b> int64</label>"
            ]
          },
          "metadata": {},
          "execution_count": 26
        }
      ]
    },
    {
      "cell_type": "markdown",
      "source": [
        "Por lo visto el producto que menos se relaiza son las playeras, quizas en este producto o area, deberia realizarse mejor sudaderas que es lo que mas vende y no queda tan lejos de los otros productos"
      ],
      "metadata": {
        "id": "A9uyXVYpvz-5"
      },
      "id": "A9uyXVYpvz-5"
    },
    {
      "cell_type": "markdown",
      "source": [
        "### ¿Cuál es mi red social más efectiva?"
      ],
      "metadata": {
        "id": "GRJB_SVEwJ3_"
      },
      "id": "GRJB_SVEwJ3_"
    },
    {
      "cell_type": "code",
      "source": [
        "#Hacemos conteo de las ventas respecto a las redfes sociales o un simple conteo\n",
        "df_red_social_efectiva=df['Red social de venta'].value_counts()\n",
        "#Ordenamos\n",
        "df_red_social_efectiva_ordenado=df_red_social_efectiva.sort_values()\n",
        "df_red_social_efectiva_ordenado"
      ],
      "metadata": {
        "colab": {
          "base_uri": "https://localhost:8080/",
          "height": 209
        },
        "id": "rwvbBthivwvW",
        "outputId": "5fbb61ba-b22e-44f0-fe3f-148ca87a15ca"
      },
      "id": "rwvbBthivwvW",
      "execution_count": null,
      "outputs": [
        {
          "output_type": "execute_result",
          "data": {
            "text/plain": [
              "Red social de venta\n",
              "Whatsapp       4\n",
              "Instagram     69\n",
              "Facebook     251\n",
              "Name: count, dtype: int64"
            ],
            "text/html": [
              "<div>\n",
              "<style scoped>\n",
              "    .dataframe tbody tr th:only-of-type {\n",
              "        vertical-align: middle;\n",
              "    }\n",
              "\n",
              "    .dataframe tbody tr th {\n",
              "        vertical-align: top;\n",
              "    }\n",
              "\n",
              "    .dataframe thead th {\n",
              "        text-align: right;\n",
              "    }\n",
              "</style>\n",
              "<table border=\"1\" class=\"dataframe\">\n",
              "  <thead>\n",
              "    <tr style=\"text-align: right;\">\n",
              "      <th></th>\n",
              "      <th>count</th>\n",
              "    </tr>\n",
              "    <tr>\n",
              "      <th>Red social de venta</th>\n",
              "      <th></th>\n",
              "    </tr>\n",
              "  </thead>\n",
              "  <tbody>\n",
              "    <tr>\n",
              "      <th>Whatsapp</th>\n",
              "      <td>4</td>\n",
              "    </tr>\n",
              "    <tr>\n",
              "      <th>Instagram</th>\n",
              "      <td>69</td>\n",
              "    </tr>\n",
              "    <tr>\n",
              "      <th>Facebook</th>\n",
              "      <td>251</td>\n",
              "    </tr>\n",
              "  </tbody>\n",
              "</table>\n",
              "</div><br><label><b>dtype:</b> int64</label>"
            ]
          },
          "metadata": {},
          "execution_count": 27
        }
      ]
    },
    {
      "cell_type": "markdown",
      "source": [
        "###¿Qué modelo de celular NO he atacado y podría probar? (Blue Ocean)"
      ],
      "metadata": {
        "id": "CqmUM5Tyw7uo"
      },
      "id": "CqmUM5Tyw7uo"
    },
    {
      "cell_type": "code",
      "source": [
        "#Agrupemos los modelos de celualr\n",
        "df_modelos_celular_agrupados=df['Modelo de celular'].value_counts()\n",
        "df_modelos_celular_agrupados_ordenados=df_modelos_celular_agrupados.sort_values()\n",
        "df_modelos_celular_agrupados_ordenados"
      ],
      "metadata": {
        "colab": {
          "base_uri": "https://localhost:8080/",
          "height": 397
        },
        "id": "n4qRfT1VvgG-",
        "outputId": "d7e06233-72d6-4e8e-e656-2f7ff8ac87f5"
      },
      "id": "n4qRfT1VvgG-",
      "execution_count": null,
      "outputs": [
        {
          "output_type": "execute_result",
          "data": {
            "text/plain": [
              "Modelo de celular\n",
              "vivo          1\n",
              "Redmi         2\n",
              "Honor         2\n",
              "Oppo          5\n",
              "Xiaomi        5\n",
              "zte          10\n",
              "Motorola     19\n",
              "Samsung      83\n",
              "Iphone      112\n",
              "Name: count, dtype: int64"
            ],
            "text/html": [
              "<div>\n",
              "<style scoped>\n",
              "    .dataframe tbody tr th:only-of-type {\n",
              "        vertical-align: middle;\n",
              "    }\n",
              "\n",
              "    .dataframe tbody tr th {\n",
              "        vertical-align: top;\n",
              "    }\n",
              "\n",
              "    .dataframe thead th {\n",
              "        text-align: right;\n",
              "    }\n",
              "</style>\n",
              "<table border=\"1\" class=\"dataframe\">\n",
              "  <thead>\n",
              "    <tr style=\"text-align: right;\">\n",
              "      <th></th>\n",
              "      <th>count</th>\n",
              "    </tr>\n",
              "    <tr>\n",
              "      <th>Modelo de celular</th>\n",
              "      <th></th>\n",
              "    </tr>\n",
              "  </thead>\n",
              "  <tbody>\n",
              "    <tr>\n",
              "      <th>vivo</th>\n",
              "      <td>1</td>\n",
              "    </tr>\n",
              "    <tr>\n",
              "      <th>Redmi</th>\n",
              "      <td>2</td>\n",
              "    </tr>\n",
              "    <tr>\n",
              "      <th>Honor</th>\n",
              "      <td>2</td>\n",
              "    </tr>\n",
              "    <tr>\n",
              "      <th>Oppo</th>\n",
              "      <td>5</td>\n",
              "    </tr>\n",
              "    <tr>\n",
              "      <th>Xiaomi</th>\n",
              "      <td>5</td>\n",
              "    </tr>\n",
              "    <tr>\n",
              "      <th>zte</th>\n",
              "      <td>10</td>\n",
              "    </tr>\n",
              "    <tr>\n",
              "      <th>Motorola</th>\n",
              "      <td>19</td>\n",
              "    </tr>\n",
              "    <tr>\n",
              "      <th>Samsung</th>\n",
              "      <td>83</td>\n",
              "    </tr>\n",
              "    <tr>\n",
              "      <th>Iphone</th>\n",
              "      <td>112</td>\n",
              "    </tr>\n",
              "  </tbody>\n",
              "</table>\n",
              "</div><br><label><b>dtype:</b> int64</label>"
            ]
          },
          "metadata": {},
          "execution_count": 28
        }
      ]
    },
    {
      "cell_type": "markdown",
      "source": [
        "Los modelos de celular menos vendidos son los vivo, Honor, Xiaomi, este año, anteriores años eran los mas vendidos, quiza la probabilidad de llegar de alguna forma a estos clientes con publicidad relacionados con estos productos"
      ],
      "metadata": {
        "id": "2wTFVY-FxZOk"
      },
      "id": "2wTFVY-FxZOk"
    },
    {
      "cell_type": "markdown",
      "source": [
        "###¿Hay temporadas altas o bajas?"
      ],
      "metadata": {
        "id": "La1E4JtLxVYT"
      },
      "id": "La1E4JtLxVYT"
    },
    {
      "cell_type": "code",
      "source": [
        "df['Fecha de entrega'] = pd.to_datetime(df['Fecha de entrega'])\n",
        "df['Mes'] = df['Fecha de entrega'].dt.month\n",
        "df['Año'] = df['Fecha de entrega'].dt.year\n",
        "\n",
        "ventas_mensuales = df.groupby(['Año', 'Mes'])['Precio'].sum()\n",
        "print(ventas_mensuales)"
      ],
      "metadata": {
        "colab": {
          "base_uri": "https://localhost:8080/"
        },
        "id": "0lzCPfbAxPtI",
        "outputId": "d417a17a-91b5-4933-dcf7-0043b436095d"
      },
      "id": "0lzCPfbAxPtI",
      "execution_count": null,
      "outputs": [
        {
          "output_type": "stream",
          "name": "stdout",
          "text": [
            "Año   Mes\n",
            "2024  1       7930\n",
            "      2       4590\n",
            "      3       6360\n",
            "      4      18920\n",
            "      5       3190\n",
            "      6       1450\n",
            "      7       3000\n",
            "      10      4940\n",
            "      12     23330\n",
            "2025  1       7370\n",
            "      2       4060\n",
            "      3       2740\n",
            "      4       3430\n",
            "Name: Precio, dtype: int64\n"
          ]
        }
      ]
    },
    {
      "cell_type": "markdown",
      "source": [
        "Las temporadas altas es Abril, Enero y Diciembre"
      ],
      "metadata": {
        "id": "ZgqOYmu4yLnI"
      },
      "id": "ZgqOYmu4yLnI"
    },
    {
      "cell_type": "code",
      "source": [],
      "metadata": {
        "id": "nCLe9N1dyQfD"
      },
      "id": "nCLe9N1dyQfD",
      "execution_count": null,
      "outputs": []
    },
    {
      "cell_type": "markdown",
      "source": [
        "#Envios y especificadamente los estados a donde se enviaron"
      ],
      "metadata": {
        "id": "0KslVLysUHYc"
      },
      "id": "0KslVLysUHYc"
    },
    {
      "cell_type": "code",
      "source": [
        "#Analizaremos primero la columna\n",
        "df_ordenado=df.sort_values(by='Lugares de Envio')\n",
        "df_ordenado['Lugares de Envio']"
      ],
      "metadata": {
        "colab": {
          "base_uri": "https://localhost:8080/",
          "height": 458
        },
        "id": "k5l1KvFFVAFm",
        "outputId": "5ab352c2-b86d-4e85-d3a5-19da17656b79"
      },
      "id": "k5l1KvFFVAFm",
      "execution_count": null,
      "outputs": [
        {
          "output_type": "execute_result",
          "data": {
            "text/plain": [
              "193    Estado de México\n",
              "317    Estado de México\n",
              "255    Estado de México\n",
              "249    Estado de México\n",
              "201    Estado de México\n",
              "             ...       \n",
              "303                 NaN\n",
              "304                 NaN\n",
              "305                 NaN\n",
              "306                 NaN\n",
              "307                 NaN\n",
              "Name: Lugares de Envio, Length: 324, dtype: object"
            ],
            "text/html": [
              "<div>\n",
              "<style scoped>\n",
              "    .dataframe tbody tr th:only-of-type {\n",
              "        vertical-align: middle;\n",
              "    }\n",
              "\n",
              "    .dataframe tbody tr th {\n",
              "        vertical-align: top;\n",
              "    }\n",
              "\n",
              "    .dataframe thead th {\n",
              "        text-align: right;\n",
              "    }\n",
              "</style>\n",
              "<table border=\"1\" class=\"dataframe\">\n",
              "  <thead>\n",
              "    <tr style=\"text-align: right;\">\n",
              "      <th></th>\n",
              "      <th>Lugares de Envio</th>\n",
              "    </tr>\n",
              "  </thead>\n",
              "  <tbody>\n",
              "    <tr>\n",
              "      <th>193</th>\n",
              "      <td>Estado de México</td>\n",
              "    </tr>\n",
              "    <tr>\n",
              "      <th>317</th>\n",
              "      <td>Estado de México</td>\n",
              "    </tr>\n",
              "    <tr>\n",
              "      <th>255</th>\n",
              "      <td>Estado de México</td>\n",
              "    </tr>\n",
              "    <tr>\n",
              "      <th>249</th>\n",
              "      <td>Estado de México</td>\n",
              "    </tr>\n",
              "    <tr>\n",
              "      <th>201</th>\n",
              "      <td>Estado de México</td>\n",
              "    </tr>\n",
              "    <tr>\n",
              "      <th>...</th>\n",
              "      <td>...</td>\n",
              "    </tr>\n",
              "    <tr>\n",
              "      <th>303</th>\n",
              "      <td>NaN</td>\n",
              "    </tr>\n",
              "    <tr>\n",
              "      <th>304</th>\n",
              "      <td>NaN</td>\n",
              "    </tr>\n",
              "    <tr>\n",
              "      <th>305</th>\n",
              "      <td>NaN</td>\n",
              "    </tr>\n",
              "    <tr>\n",
              "      <th>306</th>\n",
              "      <td>NaN</td>\n",
              "    </tr>\n",
              "    <tr>\n",
              "      <th>307</th>\n",
              "      <td>NaN</td>\n",
              "    </tr>\n",
              "  </tbody>\n",
              "</table>\n",
              "<p>324 rows × 1 columns</p>\n",
              "</div><br><label><b>dtype:</b> object</label>"
            ]
          },
          "metadata": {},
          "execution_count": 7
        }
      ]
    },
    {
      "cell_type": "markdown",
      "source": [
        "Lo organizaremos por grupos"
      ],
      "metadata": {
        "id": "aPd5TfCxVnX0"
      },
      "id": "aPd5TfCxVnX0"
    },
    {
      "cell_type": "code",
      "source": [
        "#valorar los valors\n",
        "df_estados=df['Lugares de Envio'].value_counts()\n",
        "df_estados\n"
      ],
      "metadata": {
        "colab": {
          "base_uri": "https://localhost:8080/",
          "height": 366
        },
        "id": "cZuKlZ72VFT1",
        "outputId": "75c8469a-e62f-491b-ffe0-733e36676afb"
      },
      "id": "cZuKlZ72VFT1",
      "execution_count": null,
      "outputs": [
        {
          "output_type": "execute_result",
          "data": {
            "text/plain": [
              "Lugares de Envio\n",
              "Guadalajara         34\n",
              "Yucatán              8\n",
              "Estado de México     7\n",
              "Tijuana              7\n",
              "Monterrey            6\n",
              "Querétaro            6\n",
              "Veracruz             6\n",
              "San Luis Potosí      5\n",
              "Name: count, dtype: int64"
            ],
            "text/html": [
              "<div>\n",
              "<style scoped>\n",
              "    .dataframe tbody tr th:only-of-type {\n",
              "        vertical-align: middle;\n",
              "    }\n",
              "\n",
              "    .dataframe tbody tr th {\n",
              "        vertical-align: top;\n",
              "    }\n",
              "\n",
              "    .dataframe thead th {\n",
              "        text-align: right;\n",
              "    }\n",
              "</style>\n",
              "<table border=\"1\" class=\"dataframe\">\n",
              "  <thead>\n",
              "    <tr style=\"text-align: right;\">\n",
              "      <th></th>\n",
              "      <th>count</th>\n",
              "    </tr>\n",
              "    <tr>\n",
              "      <th>Lugares de Envio</th>\n",
              "      <th></th>\n",
              "    </tr>\n",
              "  </thead>\n",
              "  <tbody>\n",
              "    <tr>\n",
              "      <th>Guadalajara</th>\n",
              "      <td>34</td>\n",
              "    </tr>\n",
              "    <tr>\n",
              "      <th>Yucatán</th>\n",
              "      <td>8</td>\n",
              "    </tr>\n",
              "    <tr>\n",
              "      <th>Estado de México</th>\n",
              "      <td>7</td>\n",
              "    </tr>\n",
              "    <tr>\n",
              "      <th>Tijuana</th>\n",
              "      <td>7</td>\n",
              "    </tr>\n",
              "    <tr>\n",
              "      <th>Monterrey</th>\n",
              "      <td>6</td>\n",
              "    </tr>\n",
              "    <tr>\n",
              "      <th>Querétaro</th>\n",
              "      <td>6</td>\n",
              "    </tr>\n",
              "    <tr>\n",
              "      <th>Veracruz</th>\n",
              "      <td>6</td>\n",
              "    </tr>\n",
              "    <tr>\n",
              "      <th>San Luis Potosí</th>\n",
              "      <td>5</td>\n",
              "    </tr>\n",
              "  </tbody>\n",
              "</table>\n",
              "</div><br><label><b>dtype:</b> int64</label>"
            ]
          },
          "metadata": {},
          "execution_count": 14
        }
      ]
    },
    {
      "cell_type": "code",
      "source": [
        "#Vamos a agrupar de los productos vendidos en ciertos lugares\n",
        "df_conteo_agrupado=df['Lugares de Envio'].groupby(df['Producto ']).value_counts()\n",
        "df_conteo_agrupado"
      ],
      "metadata": {
        "colab": {
          "base_uri": "https://localhost:8080/",
          "height": 523
        },
        "id": "TuxiZeZuVzzT",
        "outputId": "54730d90-e886-423c-bc8c-0b33c96ab7d2"
      },
      "id": "TuxiZeZuVzzT",
      "execution_count": null,
      "outputs": [
        {
          "output_type": "execute_result",
          "data": {
            "text/plain": [
              "Producto   Lugares de Envio\n",
              "Cuadro     Guadalajara          7\n",
              "           Veracruz             2\n",
              "           Estado de México     1\n",
              "           Querétaro            1\n",
              "           Yucatán              1\n",
              "Funda      Guadalajara         27\n",
              "           Tijuana              7\n",
              "           Yucatán              7\n",
              "           Estado de México     6\n",
              "           Monterrey            6\n",
              "           Querétaro            5\n",
              "           San Luis Potosí      5\n",
              "           Veracruz             4\n",
              "Name: count, dtype: int64"
            ],
            "text/html": [
              "<div>\n",
              "<style scoped>\n",
              "    .dataframe tbody tr th:only-of-type {\n",
              "        vertical-align: middle;\n",
              "    }\n",
              "\n",
              "    .dataframe tbody tr th {\n",
              "        vertical-align: top;\n",
              "    }\n",
              "\n",
              "    .dataframe thead th {\n",
              "        text-align: right;\n",
              "    }\n",
              "</style>\n",
              "<table border=\"1\" class=\"dataframe\">\n",
              "  <thead>\n",
              "    <tr style=\"text-align: right;\">\n",
              "      <th></th>\n",
              "      <th></th>\n",
              "      <th>count</th>\n",
              "    </tr>\n",
              "    <tr>\n",
              "      <th>Producto</th>\n",
              "      <th>Lugares de Envio</th>\n",
              "      <th></th>\n",
              "    </tr>\n",
              "  </thead>\n",
              "  <tbody>\n",
              "    <tr>\n",
              "      <th rowspan=\"5\" valign=\"top\">Cuadro</th>\n",
              "      <th>Guadalajara</th>\n",
              "      <td>7</td>\n",
              "    </tr>\n",
              "    <tr>\n",
              "      <th>Veracruz</th>\n",
              "      <td>2</td>\n",
              "    </tr>\n",
              "    <tr>\n",
              "      <th>Estado de México</th>\n",
              "      <td>1</td>\n",
              "    </tr>\n",
              "    <tr>\n",
              "      <th>Querétaro</th>\n",
              "      <td>1</td>\n",
              "    </tr>\n",
              "    <tr>\n",
              "      <th>Yucatán</th>\n",
              "      <td>1</td>\n",
              "    </tr>\n",
              "    <tr>\n",
              "      <th rowspan=\"8\" valign=\"top\">Funda</th>\n",
              "      <th>Guadalajara</th>\n",
              "      <td>27</td>\n",
              "    </tr>\n",
              "    <tr>\n",
              "      <th>Tijuana</th>\n",
              "      <td>7</td>\n",
              "    </tr>\n",
              "    <tr>\n",
              "      <th>Yucatán</th>\n",
              "      <td>7</td>\n",
              "    </tr>\n",
              "    <tr>\n",
              "      <th>Estado de México</th>\n",
              "      <td>6</td>\n",
              "    </tr>\n",
              "    <tr>\n",
              "      <th>Monterrey</th>\n",
              "      <td>6</td>\n",
              "    </tr>\n",
              "    <tr>\n",
              "      <th>Querétaro</th>\n",
              "      <td>5</td>\n",
              "    </tr>\n",
              "    <tr>\n",
              "      <th>San Luis Potosí</th>\n",
              "      <td>5</td>\n",
              "    </tr>\n",
              "    <tr>\n",
              "      <th>Veracruz</th>\n",
              "      <td>4</td>\n",
              "    </tr>\n",
              "  </tbody>\n",
              "</table>\n",
              "</div><br><label><b>dtype:</b> int64</label>"
            ]
          },
          "metadata": {},
          "execution_count": 15
        }
      ]
    },
    {
      "cell_type": "code",
      "source": [
        "#Un grafico de barras de los estados donde mas se envia\n",
        "import matplotlib.pyplot as plt\n",
        "plt.figure(figsize=(10, 6))\n",
        "df_estados.plot(kind='bar',color='Green')\n",
        "plt.title('Estados donde más se envia')\n",
        "plt.xlabel('Estados')\n",
        "plt.ylabel('Número de Ventas')\n",
        "plt.show()"
      ],
      "metadata": {
        "colab": {
          "base_uri": "https://localhost:8080/",
          "height": 672
        },
        "id": "eB_SfMvioU3E",
        "outputId": "bc80bc22-69dd-420e-af3a-8bf2db23b90d"
      },
      "id": "eB_SfMvioU3E",
      "execution_count": null,
      "outputs": [
        {
          "output_type": "display_data",
          "data": {
            "text/plain": [
              "<Figure size 1000x600 with 1 Axes>"
            ],
            "image/png": "[encoded data removed]"
          },
          "metadata": {}
        }
      ]
    },
    {
      "cell_type": "markdown",
      "source": [
        "Esta observación nos puede indicar una razón en especifica, si se puede se observar los estados, un dato importante de esto, es que en algun tiempo del año pasado justo por abril se tenia un tipo sucursal en Guadalajara por lo que se enviaba las fundas"
      ],
      "metadata": {
        "id": "ZBXJfyv33f-_"
      },
      "id": "ZBXJfyv33f-_"
    },
    {
      "cell_type": "code",
      "source": [],
      "metadata": {
        "id": "Aqec6SwA26LO"
      },
      "id": "Aqec6SwA26LO",
      "execution_count": null,
      "outputs": []
    }
  ],
  "metadata": {
    "colab": {
      "provenance": []
    },
    "language_info": {
      "name": "python"
    },
    "kernelspec": {
      "name": "python3",
      "display_name": "Python 3"
    }
  },
  "nbformat": 4,
  "nbformat_minor": 5
}